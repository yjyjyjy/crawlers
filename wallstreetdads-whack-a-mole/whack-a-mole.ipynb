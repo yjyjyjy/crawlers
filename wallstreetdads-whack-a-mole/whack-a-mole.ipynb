{
 "cells": [
  {
   "cell_type": "code",
   "execution_count": 8,
   "id": "f473ec39",
   "metadata": {},
   "outputs": [],
   "source": [
    "import selenium as sel\n",
    "from selenium import webdriver\n",
    "from selenium.webdriver.common.keys import Keys\n",
    "from selenium.webdriver.common.by import By\n",
    "from selenium.webdriver.support.ui import WebDriverWait\n",
    "from selenium.webdriver.support import expected_conditions as EC\n",
    "import time\n",
    "import datetime\n",
    "import pandas as pd"
   ]
  },
  {
   "cell_type": "code",
   "execution_count": 9,
   "id": "b9f3335e",
   "metadata": {},
   "outputs": [],
   "source": [
    "def scan_scam(driver):\n",
    "    driver.get('https://opensea.io/')\n",
    "    time.sleep(5)\n",
    "    searchbox = driver.find_element_by_xpath(\"//input[@type='search']\")\n",
    "    searchbox.send_keys('wallstreet dad')\n",
    "    searchbox.send_keys(Keys.RETURN)\n",
    "    urls = []\n",
    "    for i in range(20):\n",
    "        target_list = driver1.find_elements_by_xpath(\"//a[contains(@class, 'AssetCardFooter--collection-name')]\")\n",
    "        urls += [tar.get_attribute('href') for tar in target_list]\n",
    "        body = driver1.find_element_by_css_selector('body')\n",
    "        body.send_keys(Keys.PAGE_DOWN)\n",
    "        time.sleep(5)\n",
    "    urls = pd.Series(urls)\n",
    "    urls = urls.unique()\n",
    "    # filter the bad guys only\n",
    "    target_df = pd.DataFrame(urls, columns=['url'])\n",
    "    target_df = pd.DataFrame(urls, columns=['url'])\n",
    "    target_df['collection_name'] = target_df.url.apply(lambda x: x.split('/')[-1])\n",
    "    target_df = target_df[(target_df.collection_name.str.contains('wall')) \\\n",
    "              & (target_df.collection_name.str.contains('st'))\\\n",
    "              & (target_df.collection_name.str.contains('dad'))\\\n",
    "              & (target_df.collection_name != 'wallstreetdads')]\n",
    "    target_df['reported']=False\n",
    "    old_list = pd.read_csv('report_log.csv')\n",
    "    target_df = target_df[~target_df.url.isin(list(old_list.url))]\n",
    "    target_df = pd.concat([old_list, target_df] , axis = 0)\n",
    "    return target_df"
   ]
  },
  {
   "cell_type": "code",
   "execution_count": 10,
   "id": "9158cbaf",
   "metadata": {},
   "outputs": [],
   "source": [
    "def find_input_box(driver, label, element):\n",
    "    lab = WebDriverWait(driver, 30).until(EC.element_to_be_clickable(\n",
    "        (By.XPATH, \"//label[contains(text(), '{}')]\".format(label))))\n",
    "    box = lab.find_element_by_xpath('../{}'.format(element))\n",
    "    return box"
   ]
  },
  {
   "cell_type": "code",
   "execution_count": 11,
   "id": "526f846c",
   "metadata": {},
   "outputs": [],
   "source": [
    "def box_input(driver, label, text):\n",
    "    box = find_input_box(driver,label, 'input')\n",
    "    box.click()\n",
    "    box.send_keys(text)"
   ]
  },
  {
   "cell_type": "code",
   "execution_count": 12,
   "id": "7baae8bb",
   "metadata": {},
   "outputs": [],
   "source": [
    "def option_select(driver, label, option):\n",
    "    box = find_input_box(driver, label,'a')\n",
    "    box.click()\n",
    "    time.sleep(2)\n",
    "    option = WebDriverWait(driver2, 30).until(EC.element_to_be_clickable(\n",
    "        (By.XPATH, \"//li[contains(text(), '{}')]\".format(option))))\n",
    "    option.click()\n",
    "    time.sleep(1)"
   ]
  },
  {
   "cell_type": "code",
   "execution_count": 13,
   "id": "597fa1ad",
   "metadata": {},
   "outputs": [],
   "source": [
    "def report_scam(driver, url):\n",
    "    driver.get('https://support.opensea.io/hc/en-us/requests/new')\n",
    "    time.sleep(5)\n",
    "    option_select(driver, label='How can we help?',option='Trust & Safety Report')\n",
    "    time.sleep(2)\n",
    "    box_input(driver, label=\"Your email address\", text='junyu@wallstreetdads.com')\n",
    "    box_input(driver, label=\"Subject\", text='Reporting bad players stealing our art and scamming our fans')\n",
    "    time.sleep(1)\n",
    "    option_select(driver, label='Type of report',option='Fraudulent activity')\n",
    "    box_input(driver, \n",
    "              label=\"URL to item/collection you wish to report\", \n",
    "              text='https://opensea.io/collection/wallstdadsnft')\n",
    "    box_input(driver, \n",
    "              label=\"URL to legitimate asset or works, on or off OpenSea (proof of authorship)\",\n",
    "              text='https://opensea.io/collection/wallstreetdads')\n",
    "    complaint='''\n",
    "    We are www.wallstreetdads.com with over 70k members on our Discord and have NOT opened up our general sales minting yet and have NOT revealed our art.\n",
    "    The fraud collection took art from our website and discord and are trying to sell them.\n",
    "    Official website: https://www.wallstreetdads.com\n",
    "    Official collection: https://opensea.io/collection/wallstreetdads\n",
    "    This collection is clearly a rip off of our art and try to scam our community. Please help taking them down.\n",
    "    '''\n",
    "    driver.switch_to.frame(driver.find_element_by_id(\"request_description_ifr\"))\n",
    "    ## Insert text via xpath ##\n",
    "    elem = driver.find_element_by_xpath(\"/html/body/p\")\n",
    "    elem.send_keys(complaint)\n",
    "    ## Switch back to the \"default content\" (that is, out of the iframes) ##\n",
    "    driver.switch_to.default_content()\n",
    "    driver.find_element_by_xpath('//input[@type=\"submit\"]').click()\n",
    "    time.sleep(5)\n"
   ]
  },
  {
   "cell_type": "code",
   "execution_count": 15,
   "id": "069f5fbc",
   "metadata": {},
   "outputs": [
    {
     "ename": "KeyboardInterrupt",
     "evalue": "",
     "output_type": "error",
     "traceback": [
      "\u001b[0;31m---------------------------------------------------------------------------\u001b[0m",
      "\u001b[0;31mKeyboardInterrupt\u001b[0m                         Traceback (most recent call last)",
      "\u001b[0;32m<ipython-input-15-9414576f49b6>\u001b[0m in \u001b[0;36m<module>\u001b[0;34m\u001b[0m\n\u001b[1;32m      2\u001b[0m \u001b[0mdriver2\u001b[0m \u001b[0;34m=\u001b[0m \u001b[0mwebdriver\u001b[0m\u001b[0;34m.\u001b[0m\u001b[0mChrome\u001b[0m\u001b[0;34m(\u001b[0m\u001b[0;34m)\u001b[0m\u001b[0;34m\u001b[0m\u001b[0;34m\u001b[0m\u001b[0m\n\u001b[1;32m      3\u001b[0m \u001b[0;32mwhile\u001b[0m \u001b[0;32mTrue\u001b[0m\u001b[0;34m:\u001b[0m\u001b[0;34m\u001b[0m\u001b[0;34m\u001b[0m\u001b[0m\n\u001b[0;32m----> 4\u001b[0;31m     \u001b[0mtarget_df\u001b[0m \u001b[0;34m=\u001b[0m \u001b[0mscan_scam\u001b[0m\u001b[0;34m(\u001b[0m\u001b[0mdriver1\u001b[0m\u001b[0;34m)\u001b[0m\u001b[0;34m\u001b[0m\u001b[0;34m\u001b[0m\u001b[0m\n\u001b[0m\u001b[1;32m      5\u001b[0m     \u001b[0;32mfor\u001b[0m \u001b[0murl\u001b[0m \u001b[0;32min\u001b[0m \u001b[0mlist\u001b[0m\u001b[0;34m(\u001b[0m\u001b[0mtarget_df\u001b[0m\u001b[0;34m.\u001b[0m\u001b[0murl\u001b[0m\u001b[0;34m[\u001b[0m\u001b[0mtarget_df\u001b[0m\u001b[0;34m.\u001b[0m\u001b[0mreported\u001b[0m\u001b[0;34m==\u001b[0m\u001b[0;32mFalse\u001b[0m\u001b[0;34m]\u001b[0m\u001b[0;34m)\u001b[0m\u001b[0;34m:\u001b[0m\u001b[0;34m\u001b[0m\u001b[0;34m\u001b[0m\u001b[0m\n\u001b[1;32m      6\u001b[0m         \u001b[0mreport_scam\u001b[0m\u001b[0;34m(\u001b[0m\u001b[0mdriver\u001b[0m\u001b[0;34m=\u001b[0m\u001b[0mdriver2\u001b[0m\u001b[0;34m,\u001b[0m \u001b[0murl\u001b[0m\u001b[0;34m=\u001b[0m\u001b[0murl\u001b[0m\u001b[0;34m)\u001b[0m\u001b[0;34m\u001b[0m\u001b[0;34m\u001b[0m\u001b[0m\n",
      "\u001b[0;32m<ipython-input-9-776fd4291d7c>\u001b[0m in \u001b[0;36mscan_scam\u001b[0;34m(driver)\u001b[0m\n\u001b[1;32m     11\u001b[0m         \u001b[0mbody\u001b[0m \u001b[0;34m=\u001b[0m \u001b[0mdriver1\u001b[0m\u001b[0;34m.\u001b[0m\u001b[0mfind_element_by_css_selector\u001b[0m\u001b[0;34m(\u001b[0m\u001b[0;34m'body'\u001b[0m\u001b[0;34m)\u001b[0m\u001b[0;34m\u001b[0m\u001b[0;34m\u001b[0m\u001b[0m\n\u001b[1;32m     12\u001b[0m         \u001b[0mbody\u001b[0m\u001b[0;34m.\u001b[0m\u001b[0msend_keys\u001b[0m\u001b[0;34m(\u001b[0m\u001b[0mKeys\u001b[0m\u001b[0;34m.\u001b[0m\u001b[0mPAGE_DOWN\u001b[0m\u001b[0;34m)\u001b[0m\u001b[0;34m\u001b[0m\u001b[0;34m\u001b[0m\u001b[0m\n\u001b[0;32m---> 13\u001b[0;31m         \u001b[0mtime\u001b[0m\u001b[0;34m.\u001b[0m\u001b[0msleep\u001b[0m\u001b[0;34m(\u001b[0m\u001b[0;36m5\u001b[0m\u001b[0;34m)\u001b[0m\u001b[0;34m\u001b[0m\u001b[0;34m\u001b[0m\u001b[0m\n\u001b[0m\u001b[1;32m     14\u001b[0m     \u001b[0murls\u001b[0m \u001b[0;34m=\u001b[0m \u001b[0mpd\u001b[0m\u001b[0;34m.\u001b[0m\u001b[0mSeries\u001b[0m\u001b[0;34m(\u001b[0m\u001b[0murls\u001b[0m\u001b[0;34m)\u001b[0m\u001b[0;34m\u001b[0m\u001b[0;34m\u001b[0m\u001b[0m\n\u001b[1;32m     15\u001b[0m     \u001b[0murls\u001b[0m \u001b[0;34m=\u001b[0m \u001b[0murls\u001b[0m\u001b[0;34m.\u001b[0m\u001b[0munique\u001b[0m\u001b[0;34m(\u001b[0m\u001b[0;34m)\u001b[0m\u001b[0;34m\u001b[0m\u001b[0;34m\u001b[0m\u001b[0m\n",
      "\u001b[0;31mKeyboardInterrupt\u001b[0m: "
     ]
    }
   ],
   "source": [
    "driver1 = webdriver.Chrome()\n",
    "driver2 = webdriver.Chrome()\n",
    "while True:\n",
    "    target_df = scan_scam(driver1)\n",
    "    for url in list(target_df.url[target_df.reported==False]):\n",
    "        report_scam(driver=driver2, url=url)\n",
    "        target_df.reported[target_df.url==url]=True\n",
    "    target_df.to_csv('report_log.csv', index=False)"
   ]
  },
  {
   "cell_type": "code",
   "execution_count": null,
   "id": "d1a7aa92",
   "metadata": {},
   "outputs": [],
   "source": []
  },
  {
   "cell_type": "code",
   "execution_count": 161,
   "id": "cd818c79",
   "metadata": {},
   "outputs": [],
   "source": []
  },
  {
   "cell_type": "code",
   "execution_count": null,
   "id": "dd224f0c",
   "metadata": {},
   "outputs": [],
   "source": []
  },
  {
   "cell_type": "code",
   "execution_count": null,
   "id": "7dc9caae",
   "metadata": {},
   "outputs": [],
   "source": []
  },
  {
   "cell_type": "code",
   "execution_count": null,
   "id": "dbf2ad75",
   "metadata": {},
   "outputs": [],
   "source": []
  },
  {
   "cell_type": "code",
   "execution_count": null,
   "id": "d9483b62",
   "metadata": {},
   "outputs": [],
   "source": []
  },
  {
   "cell_type": "code",
   "execution_count": null,
   "id": "746be247",
   "metadata": {},
   "outputs": [],
   "source": []
  }
 ],
 "metadata": {
  "kernelspec": {
   "display_name": "Python 3",
   "language": "python",
   "name": "python3"
  },
  "language_info": {
   "codemirror_mode": {
    "name": "ipython",
    "version": 3
   },
   "file_extension": ".py",
   "mimetype": "text/x-python",
   "name": "python",
   "nbconvert_exporter": "python",
   "pygments_lexer": "ipython3",
   "version": "3.9.7"
  }
 },
 "nbformat": 4,
 "nbformat_minor": 5
}
