{
 "cells": [
  {
   "cell_type": "code",
   "execution_count": 162,
   "id": "ab28a351",
   "metadata": {},
   "outputs": [
    {
     "ename": "WebDriverException",
     "evalue": "Message: Reached error page: about:neterror?e=dnsNotFound&u=https%3A//www.upwork.com/&c=UTF-8&d=We%20can%E2%80%99t%20connect%20to%20the%20server%20at%20www.upwork.com.\n",
     "output_type": "error",
     "traceback": [
      "\u001b[0;31m---------------------------------------------------------------------------\u001b[0m",
      "\u001b[0;31mWebDriverException\u001b[0m                        Traceback (most recent call last)",
      "\u001b[0;32m<ipython-input-162-dc0ba7f9c9ef>\u001b[0m in \u001b[0;36m<module>\u001b[0;34m\u001b[0m\n\u001b[1;32m      8\u001b[0m \u001b[0;34m\u001b[0m\u001b[0m\n\u001b[1;32m      9\u001b[0m \u001b[0mbrowser\u001b[0m \u001b[0;34m=\u001b[0m \u001b[0mwebdriver\u001b[0m\u001b[0;34m.\u001b[0m\u001b[0mFirefox\u001b[0m\u001b[0;34m(\u001b[0m\u001b[0;34m)\u001b[0m\u001b[0;34m\u001b[0m\u001b[0;34m\u001b[0m\u001b[0m\n\u001b[0;32m---> 10\u001b[0;31m \u001b[0mbrowser\u001b[0m\u001b[0;34m.\u001b[0m\u001b[0mget\u001b[0m\u001b[0;34m(\u001b[0m\u001b[0;34m'https://www.upwork.com/'\u001b[0m\u001b[0;34m)\u001b[0m \u001b[0;31m# go to website\u001b[0m\u001b[0;34m\u001b[0m\u001b[0;34m\u001b[0m\u001b[0m\n\u001b[0m",
      "\u001b[0;32m/usr/local/lib/python3.9/site-packages/selenium/webdriver/remote/webdriver.py\u001b[0m in \u001b[0;36mget\u001b[0;34m(self, url)\u001b[0m\n\u001b[1;32m    331\u001b[0m         \u001b[0mLoads\u001b[0m \u001b[0ma\u001b[0m \u001b[0mweb\u001b[0m \u001b[0mpage\u001b[0m \u001b[0;32min\u001b[0m \u001b[0mthe\u001b[0m \u001b[0mcurrent\u001b[0m \u001b[0mbrowser\u001b[0m \u001b[0msession\u001b[0m\u001b[0;34m.\u001b[0m\u001b[0;34m\u001b[0m\u001b[0;34m\u001b[0m\u001b[0m\n\u001b[1;32m    332\u001b[0m         \"\"\"\n\u001b[0;32m--> 333\u001b[0;31m         \u001b[0mself\u001b[0m\u001b[0;34m.\u001b[0m\u001b[0mexecute\u001b[0m\u001b[0;34m(\u001b[0m\u001b[0mCommand\u001b[0m\u001b[0;34m.\u001b[0m\u001b[0mGET\u001b[0m\u001b[0;34m,\u001b[0m \u001b[0;34m{\u001b[0m\u001b[0;34m'url'\u001b[0m\u001b[0;34m:\u001b[0m \u001b[0murl\u001b[0m\u001b[0;34m}\u001b[0m\u001b[0;34m)\u001b[0m\u001b[0;34m\u001b[0m\u001b[0;34m\u001b[0m\u001b[0m\n\u001b[0m\u001b[1;32m    334\u001b[0m \u001b[0;34m\u001b[0m\u001b[0m\n\u001b[1;32m    335\u001b[0m     \u001b[0;34m@\u001b[0m\u001b[0mproperty\u001b[0m\u001b[0;34m\u001b[0m\u001b[0;34m\u001b[0m\u001b[0m\n",
      "\u001b[0;32m/usr/local/lib/python3.9/site-packages/selenium/webdriver/remote/webdriver.py\u001b[0m in \u001b[0;36mexecute\u001b[0;34m(self, driver_command, params)\u001b[0m\n\u001b[1;32m    319\u001b[0m         \u001b[0mresponse\u001b[0m \u001b[0;34m=\u001b[0m \u001b[0mself\u001b[0m\u001b[0;34m.\u001b[0m\u001b[0mcommand_executor\u001b[0m\u001b[0;34m.\u001b[0m\u001b[0mexecute\u001b[0m\u001b[0;34m(\u001b[0m\u001b[0mdriver_command\u001b[0m\u001b[0;34m,\u001b[0m \u001b[0mparams\u001b[0m\u001b[0;34m)\u001b[0m\u001b[0;34m\u001b[0m\u001b[0;34m\u001b[0m\u001b[0m\n\u001b[1;32m    320\u001b[0m         \u001b[0;32mif\u001b[0m \u001b[0mresponse\u001b[0m\u001b[0;34m:\u001b[0m\u001b[0;34m\u001b[0m\u001b[0;34m\u001b[0m\u001b[0m\n\u001b[0;32m--> 321\u001b[0;31m             \u001b[0mself\u001b[0m\u001b[0;34m.\u001b[0m\u001b[0merror_handler\u001b[0m\u001b[0;34m.\u001b[0m\u001b[0mcheck_response\u001b[0m\u001b[0;34m(\u001b[0m\u001b[0mresponse\u001b[0m\u001b[0;34m)\u001b[0m\u001b[0;34m\u001b[0m\u001b[0;34m\u001b[0m\u001b[0m\n\u001b[0m\u001b[1;32m    322\u001b[0m             response['value'] = self._unwrap_value(\n\u001b[1;32m    323\u001b[0m                 response.get('value', None))\n",
      "\u001b[0;32m/usr/local/lib/python3.9/site-packages/selenium/webdriver/remote/errorhandler.py\u001b[0m in \u001b[0;36mcheck_response\u001b[0;34m(self, response)\u001b[0m\n\u001b[1;32m    240\u001b[0m                 \u001b[0malert_text\u001b[0m \u001b[0;34m=\u001b[0m \u001b[0mvalue\u001b[0m\u001b[0;34m[\u001b[0m\u001b[0;34m'alert'\u001b[0m\u001b[0;34m]\u001b[0m\u001b[0;34m.\u001b[0m\u001b[0mget\u001b[0m\u001b[0;34m(\u001b[0m\u001b[0;34m'text'\u001b[0m\u001b[0;34m)\u001b[0m\u001b[0;34m\u001b[0m\u001b[0;34m\u001b[0m\u001b[0m\n\u001b[1;32m    241\u001b[0m             \u001b[0;32mraise\u001b[0m \u001b[0mexception_class\u001b[0m\u001b[0;34m(\u001b[0m\u001b[0mmessage\u001b[0m\u001b[0;34m,\u001b[0m \u001b[0mscreen\u001b[0m\u001b[0;34m,\u001b[0m \u001b[0mstacktrace\u001b[0m\u001b[0;34m,\u001b[0m \u001b[0malert_text\u001b[0m\u001b[0;34m)\u001b[0m\u001b[0;34m\u001b[0m\u001b[0;34m\u001b[0m\u001b[0m\n\u001b[0;32m--> 242\u001b[0;31m         \u001b[0;32mraise\u001b[0m \u001b[0mexception_class\u001b[0m\u001b[0;34m(\u001b[0m\u001b[0mmessage\u001b[0m\u001b[0;34m,\u001b[0m \u001b[0mscreen\u001b[0m\u001b[0;34m,\u001b[0m \u001b[0mstacktrace\u001b[0m\u001b[0;34m)\u001b[0m\u001b[0;34m\u001b[0m\u001b[0;34m\u001b[0m\u001b[0m\n\u001b[0m\u001b[1;32m    243\u001b[0m \u001b[0;34m\u001b[0m\u001b[0m\n\u001b[1;32m    244\u001b[0m     \u001b[0;32mdef\u001b[0m \u001b[0m_value_or_default\u001b[0m\u001b[0;34m(\u001b[0m\u001b[0mself\u001b[0m\u001b[0;34m,\u001b[0m \u001b[0mobj\u001b[0m\u001b[0;34m,\u001b[0m \u001b[0mkey\u001b[0m\u001b[0;34m,\u001b[0m \u001b[0mdefault\u001b[0m\u001b[0;34m)\u001b[0m\u001b[0;34m:\u001b[0m\u001b[0;34m\u001b[0m\u001b[0;34m\u001b[0m\u001b[0m\n",
      "\u001b[0;31mWebDriverException\u001b[0m: Message: Reached error page: about:neterror?e=dnsNotFound&u=https%3A//www.upwork.com/&c=UTF-8&d=We%20can%E2%80%99t%20connect%20to%20the%20server%20at%20www.upwork.com.\n"
     ]
    }
   ],
   "source": [
    "import time\n",
    "from selenium import webdriver\n",
    "from selenium.webdriver.common.keys import Keys\n",
    "from selenium.webdriver.common.by import By\n",
    "from selenium.webdriver.support.ui import WebDriverWait\n",
    "from selenium.webdriver.support import expected_conditions as EC\n",
    "from selenium.webdriver.common.action_chains import ActionChains\n",
    "\n",
    "browser = webdriver.Firefox()\n",
    "browser.get('https://www.upwork.com/') # go to website"
   ]
  },
  {
   "cell_type": "code",
   "execution_count": 160,
   "id": "1f5e172f",
   "metadata": {},
   "outputs": [
    {
     "ename": "WebDriverException",
     "evalue": "Message: Failed to decode response from marionette\n",
     "output_type": "error",
     "traceback": [
      "\u001b[0;31m---------------------------------------------------------------------------\u001b[0m",
      "\u001b[0;31mWebDriverException\u001b[0m                        Traceback (most recent call last)",
      "\u001b[0;32m<ipython-input-160-f4a6759da2c0>\u001b[0m in \u001b[0;36m<module>\u001b[0;34m\u001b[0m\n\u001b[0;32m----> 1\u001b[0;31m WebDriverWait(browser, 30).until(EC.element_to_be_clickable(\n\u001b[0m\u001b[1;32m      2\u001b[0m     (By.XPATH, \"//a[contains(@class,'login-link')]\"))).click()\n\u001b[1;32m      3\u001b[0m userbox = WebDriverWait(browser, 30).until(EC.element_to_be_clickable(\n\u001b[1;32m      4\u001b[0m     (By.XPATH, \"//input[@id='login_username']\")))\n\u001b[1;32m      5\u001b[0m \u001b[0muserbox\u001b[0m\u001b[0;34m.\u001b[0m\u001b[0mclick\u001b[0m\u001b[0;34m(\u001b[0m\u001b[0;34m)\u001b[0m\u001b[0;34m\u001b[0m\u001b[0;34m\u001b[0m\u001b[0m\n",
      "\u001b[0;32m/usr/local/lib/python3.9/site-packages/selenium/webdriver/support/wait.py\u001b[0m in \u001b[0;36muntil\u001b[0;34m(self, method, message)\u001b[0m\n\u001b[1;32m     69\u001b[0m         \u001b[0;32mwhile\u001b[0m \u001b[0;32mTrue\u001b[0m\u001b[0;34m:\u001b[0m\u001b[0;34m\u001b[0m\u001b[0;34m\u001b[0m\u001b[0m\n\u001b[1;32m     70\u001b[0m             \u001b[0;32mtry\u001b[0m\u001b[0;34m:\u001b[0m\u001b[0;34m\u001b[0m\u001b[0;34m\u001b[0m\u001b[0m\n\u001b[0;32m---> 71\u001b[0;31m                 \u001b[0mvalue\u001b[0m \u001b[0;34m=\u001b[0m \u001b[0mmethod\u001b[0m\u001b[0;34m(\u001b[0m\u001b[0mself\u001b[0m\u001b[0;34m.\u001b[0m\u001b[0m_driver\u001b[0m\u001b[0;34m)\u001b[0m\u001b[0;34m\u001b[0m\u001b[0;34m\u001b[0m\u001b[0m\n\u001b[0m\u001b[1;32m     72\u001b[0m                 \u001b[0;32mif\u001b[0m \u001b[0mvalue\u001b[0m\u001b[0;34m:\u001b[0m\u001b[0;34m\u001b[0m\u001b[0;34m\u001b[0m\u001b[0m\n\u001b[1;32m     73\u001b[0m                     \u001b[0;32mreturn\u001b[0m \u001b[0mvalue\u001b[0m\u001b[0;34m\u001b[0m\u001b[0;34m\u001b[0m\u001b[0m\n",
      "\u001b[0;32m/usr/local/lib/python3.9/site-packages/selenium/webdriver/support/expected_conditions.py\u001b[0m in \u001b[0;36m__call__\u001b[0;34m(self, driver)\u001b[0m\n\u001b[1;32m    295\u001b[0m \u001b[0;34m\u001b[0m\u001b[0m\n\u001b[1;32m    296\u001b[0m     \u001b[0;32mdef\u001b[0m \u001b[0m__call__\u001b[0m\u001b[0;34m(\u001b[0m\u001b[0mself\u001b[0m\u001b[0;34m,\u001b[0m \u001b[0mdriver\u001b[0m\u001b[0;34m)\u001b[0m\u001b[0;34m:\u001b[0m\u001b[0;34m\u001b[0m\u001b[0;34m\u001b[0m\u001b[0m\n\u001b[0;32m--> 297\u001b[0;31m         \u001b[0melement\u001b[0m \u001b[0;34m=\u001b[0m \u001b[0mvisibility_of_element_located\u001b[0m\u001b[0;34m(\u001b[0m\u001b[0mself\u001b[0m\u001b[0;34m.\u001b[0m\u001b[0mlocator\u001b[0m\u001b[0;34m)\u001b[0m\u001b[0;34m(\u001b[0m\u001b[0mdriver\u001b[0m\u001b[0;34m)\u001b[0m\u001b[0;34m\u001b[0m\u001b[0;34m\u001b[0m\u001b[0m\n\u001b[0m\u001b[1;32m    298\u001b[0m         \u001b[0;32mif\u001b[0m \u001b[0melement\u001b[0m \u001b[0;32mand\u001b[0m \u001b[0melement\u001b[0m\u001b[0;34m.\u001b[0m\u001b[0mis_enabled\u001b[0m\u001b[0;34m(\u001b[0m\u001b[0;34m)\u001b[0m\u001b[0;34m:\u001b[0m\u001b[0;34m\u001b[0m\u001b[0;34m\u001b[0m\u001b[0m\n\u001b[1;32m    299\u001b[0m             \u001b[0;32mreturn\u001b[0m \u001b[0melement\u001b[0m\u001b[0;34m\u001b[0m\u001b[0;34m\u001b[0m\u001b[0m\n",
      "\u001b[0;32m/usr/local/lib/python3.9/site-packages/selenium/webdriver/support/expected_conditions.py\u001b[0m in \u001b[0;36m__call__\u001b[0;34m(self, driver)\u001b[0m\n\u001b[1;32m    126\u001b[0m     \u001b[0;32mdef\u001b[0m \u001b[0m__call__\u001b[0m\u001b[0;34m(\u001b[0m\u001b[0mself\u001b[0m\u001b[0;34m,\u001b[0m \u001b[0mdriver\u001b[0m\u001b[0;34m)\u001b[0m\u001b[0;34m:\u001b[0m\u001b[0;34m\u001b[0m\u001b[0;34m\u001b[0m\u001b[0m\n\u001b[1;32m    127\u001b[0m         \u001b[0;32mtry\u001b[0m\u001b[0;34m:\u001b[0m\u001b[0;34m\u001b[0m\u001b[0;34m\u001b[0m\u001b[0m\n\u001b[0;32m--> 128\u001b[0;31m             \u001b[0;32mreturn\u001b[0m \u001b[0m_element_if_visible\u001b[0m\u001b[0;34m(\u001b[0m\u001b[0m_find_element\u001b[0m\u001b[0;34m(\u001b[0m\u001b[0mdriver\u001b[0m\u001b[0;34m,\u001b[0m \u001b[0mself\u001b[0m\u001b[0;34m.\u001b[0m\u001b[0mlocator\u001b[0m\u001b[0;34m)\u001b[0m\u001b[0;34m)\u001b[0m\u001b[0;34m\u001b[0m\u001b[0;34m\u001b[0m\u001b[0m\n\u001b[0m\u001b[1;32m    129\u001b[0m         \u001b[0;32mexcept\u001b[0m \u001b[0mStaleElementReferenceException\u001b[0m\u001b[0;34m:\u001b[0m\u001b[0;34m\u001b[0m\u001b[0;34m\u001b[0m\u001b[0m\n\u001b[1;32m    130\u001b[0m             \u001b[0;32mreturn\u001b[0m \u001b[0;32mFalse\u001b[0m\u001b[0;34m\u001b[0m\u001b[0;34m\u001b[0m\u001b[0m\n",
      "\u001b[0;32m/usr/local/lib/python3.9/site-packages/selenium/webdriver/support/expected_conditions.py\u001b[0m in \u001b[0;36m_find_element\u001b[0;34m(driver, by)\u001b[0m\n\u001b[1;32m    413\u001b[0m         \u001b[0;32mraise\u001b[0m \u001b[0me\u001b[0m\u001b[0;34m\u001b[0m\u001b[0;34m\u001b[0m\u001b[0m\n\u001b[1;32m    414\u001b[0m     \u001b[0;32mexcept\u001b[0m \u001b[0mWebDriverException\u001b[0m \u001b[0;32mas\u001b[0m \u001b[0me\u001b[0m\u001b[0;34m:\u001b[0m\u001b[0;34m\u001b[0m\u001b[0;34m\u001b[0m\u001b[0m\n\u001b[0;32m--> 415\u001b[0;31m         \u001b[0;32mraise\u001b[0m \u001b[0me\u001b[0m\u001b[0;34m\u001b[0m\u001b[0;34m\u001b[0m\u001b[0m\n\u001b[0m\u001b[1;32m    416\u001b[0m \u001b[0;34m\u001b[0m\u001b[0m\n\u001b[1;32m    417\u001b[0m \u001b[0;34m\u001b[0m\u001b[0m\n",
      "\u001b[0;32m/usr/local/lib/python3.9/site-packages/selenium/webdriver/support/expected_conditions.py\u001b[0m in \u001b[0;36m_find_element\u001b[0;34m(driver, by)\u001b[0m\n\u001b[1;32m    409\u001b[0m     if thrown.\"\"\"\n\u001b[1;32m    410\u001b[0m     \u001b[0;32mtry\u001b[0m\u001b[0;34m:\u001b[0m\u001b[0;34m\u001b[0m\u001b[0;34m\u001b[0m\u001b[0m\n\u001b[0;32m--> 411\u001b[0;31m         \u001b[0;32mreturn\u001b[0m \u001b[0mdriver\u001b[0m\u001b[0;34m.\u001b[0m\u001b[0mfind_element\u001b[0m\u001b[0;34m(\u001b[0m\u001b[0;34m*\u001b[0m\u001b[0mby\u001b[0m\u001b[0;34m)\u001b[0m\u001b[0;34m\u001b[0m\u001b[0;34m\u001b[0m\u001b[0m\n\u001b[0m\u001b[1;32m    412\u001b[0m     \u001b[0;32mexcept\u001b[0m \u001b[0mNoSuchElementException\u001b[0m \u001b[0;32mas\u001b[0m \u001b[0me\u001b[0m\u001b[0;34m:\u001b[0m\u001b[0;34m\u001b[0m\u001b[0;34m\u001b[0m\u001b[0m\n\u001b[1;32m    413\u001b[0m         \u001b[0;32mraise\u001b[0m \u001b[0me\u001b[0m\u001b[0;34m\u001b[0m\u001b[0;34m\u001b[0m\u001b[0m\n",
      "\u001b[0;32m/usr/local/lib/python3.9/site-packages/selenium/webdriver/remote/webdriver.py\u001b[0m in \u001b[0;36mfind_element\u001b[0;34m(self, by, value)\u001b[0m\n\u001b[1;32m    974\u001b[0m                 \u001b[0mby\u001b[0m \u001b[0;34m=\u001b[0m \u001b[0mBy\u001b[0m\u001b[0;34m.\u001b[0m\u001b[0mCSS_SELECTOR\u001b[0m\u001b[0;34m\u001b[0m\u001b[0;34m\u001b[0m\u001b[0m\n\u001b[1;32m    975\u001b[0m                 \u001b[0mvalue\u001b[0m \u001b[0;34m=\u001b[0m \u001b[0;34m'[name=\"%s\"]'\u001b[0m \u001b[0;34m%\u001b[0m \u001b[0mvalue\u001b[0m\u001b[0;34m\u001b[0m\u001b[0;34m\u001b[0m\u001b[0m\n\u001b[0;32m--> 976\u001b[0;31m         return self.execute(Command.FIND_ELEMENT, {\n\u001b[0m\u001b[1;32m    977\u001b[0m             \u001b[0;34m'using'\u001b[0m\u001b[0;34m:\u001b[0m \u001b[0mby\u001b[0m\u001b[0;34m,\u001b[0m\u001b[0;34m\u001b[0m\u001b[0;34m\u001b[0m\u001b[0m\n\u001b[1;32m    978\u001b[0m             'value': value})['value']\n",
      "\u001b[0;32m/usr/local/lib/python3.9/site-packages/selenium/webdriver/remote/webdriver.py\u001b[0m in \u001b[0;36mexecute\u001b[0;34m(self, driver_command, params)\u001b[0m\n\u001b[1;32m    319\u001b[0m         \u001b[0mresponse\u001b[0m \u001b[0;34m=\u001b[0m \u001b[0mself\u001b[0m\u001b[0;34m.\u001b[0m\u001b[0mcommand_executor\u001b[0m\u001b[0;34m.\u001b[0m\u001b[0mexecute\u001b[0m\u001b[0;34m(\u001b[0m\u001b[0mdriver_command\u001b[0m\u001b[0;34m,\u001b[0m \u001b[0mparams\u001b[0m\u001b[0;34m)\u001b[0m\u001b[0;34m\u001b[0m\u001b[0;34m\u001b[0m\u001b[0m\n\u001b[1;32m    320\u001b[0m         \u001b[0;32mif\u001b[0m \u001b[0mresponse\u001b[0m\u001b[0;34m:\u001b[0m\u001b[0;34m\u001b[0m\u001b[0;34m\u001b[0m\u001b[0m\n\u001b[0;32m--> 321\u001b[0;31m             \u001b[0mself\u001b[0m\u001b[0;34m.\u001b[0m\u001b[0merror_handler\u001b[0m\u001b[0;34m.\u001b[0m\u001b[0mcheck_response\u001b[0m\u001b[0;34m(\u001b[0m\u001b[0mresponse\u001b[0m\u001b[0;34m)\u001b[0m\u001b[0;34m\u001b[0m\u001b[0;34m\u001b[0m\u001b[0m\n\u001b[0m\u001b[1;32m    322\u001b[0m             response['value'] = self._unwrap_value(\n\u001b[1;32m    323\u001b[0m                 response.get('value', None))\n",
      "\u001b[0;32m/usr/local/lib/python3.9/site-packages/selenium/webdriver/remote/errorhandler.py\u001b[0m in \u001b[0;36mcheck_response\u001b[0;34m(self, response)\u001b[0m\n\u001b[1;32m    240\u001b[0m                 \u001b[0malert_text\u001b[0m \u001b[0;34m=\u001b[0m \u001b[0mvalue\u001b[0m\u001b[0;34m[\u001b[0m\u001b[0;34m'alert'\u001b[0m\u001b[0;34m]\u001b[0m\u001b[0;34m.\u001b[0m\u001b[0mget\u001b[0m\u001b[0;34m(\u001b[0m\u001b[0;34m'text'\u001b[0m\u001b[0;34m)\u001b[0m\u001b[0;34m\u001b[0m\u001b[0;34m\u001b[0m\u001b[0m\n\u001b[1;32m    241\u001b[0m             \u001b[0;32mraise\u001b[0m \u001b[0mexception_class\u001b[0m\u001b[0;34m(\u001b[0m\u001b[0mmessage\u001b[0m\u001b[0;34m,\u001b[0m \u001b[0mscreen\u001b[0m\u001b[0;34m,\u001b[0m \u001b[0mstacktrace\u001b[0m\u001b[0;34m,\u001b[0m \u001b[0malert_text\u001b[0m\u001b[0;34m)\u001b[0m\u001b[0;34m\u001b[0m\u001b[0;34m\u001b[0m\u001b[0m\n\u001b[0;32m--> 242\u001b[0;31m         \u001b[0;32mraise\u001b[0m \u001b[0mexception_class\u001b[0m\u001b[0;34m(\u001b[0m\u001b[0mmessage\u001b[0m\u001b[0;34m,\u001b[0m \u001b[0mscreen\u001b[0m\u001b[0;34m,\u001b[0m \u001b[0mstacktrace\u001b[0m\u001b[0;34m)\u001b[0m\u001b[0;34m\u001b[0m\u001b[0;34m\u001b[0m\u001b[0m\n\u001b[0m\u001b[1;32m    243\u001b[0m \u001b[0;34m\u001b[0m\u001b[0m\n\u001b[1;32m    244\u001b[0m     \u001b[0;32mdef\u001b[0m \u001b[0m_value_or_default\u001b[0m\u001b[0;34m(\u001b[0m\u001b[0mself\u001b[0m\u001b[0;34m,\u001b[0m \u001b[0mobj\u001b[0m\u001b[0;34m,\u001b[0m \u001b[0mkey\u001b[0m\u001b[0;34m,\u001b[0m \u001b[0mdefault\u001b[0m\u001b[0;34m)\u001b[0m\u001b[0;34m:\u001b[0m\u001b[0;34m\u001b[0m\u001b[0;34m\u001b[0m\u001b[0m\n",
      "\u001b[0;31mWebDriverException\u001b[0m: Message: Failed to decode response from marionette\n"
     ]
    }
   ],
   "source": [
    "WebDriverWait(browser, 30).until(EC.element_to_be_clickable(\n",
    "    (By.XPATH, \"//a[contains(@class,'login-link')]\"))).click()\n",
    "userbox = WebDriverWait(browser, 30).until(EC.element_to_be_clickable(\n",
    "    (By.XPATH, \"//input[@id='login_username']\")))\n",
    "userbox.click()\n",
    "userbox.send_keys('yangjunyu')\n",
    "userbox.send_keys(Keys.RETURN)\n",
    "\n",
    "pwbox = WebDriverWait(browser, 30).until(EC.element_to_be_clickable(\n",
    "    (By.XPATH, \"//input[@id='login_password']\")))\n",
    "pwbox.click()\n",
    "pwbox.send_keys('happy2dai')\n",
    "pwbox.send_keys(Keys.RETURN)\n",
    "\n",
    "avatar = WebDriverWait(browser, 30).until(EC.element_to_be_clickable(\n",
    "    (By.XPATH, \"//img[contains(@class,'nav-user-avatar')]\")))\n",
    "avatar.click()\n",
    "\n",
    "WebDriverWait(browser, 30).until(EC.element_to_be_clickable(\n",
    "    (By.XPATH, \"//div[contains(text(),'Water Bear LLC')]\"))).click()\n"
   ]
  },
  {
   "cell_type": "code",
   "execution_count": null,
   "id": "fa435d23",
   "metadata": {},
   "outputs": [],
   "source": [
    "search_box = WebDriverWait(browser, 30).until(EC.element_to_be_clickable(\n",
    "    (By.XPATH, \"//div[@id='nav-main']//input[contains(@class, 'nav-search-catalog-input')]\")))\n",
    "search_box.click()\n",
    "search_box.send_keys('personal assistant')\n",
    "search_box.send_keys(Keys.RETURN)"
   ]
  },
  {
   "cell_type": "code",
   "execution_count": 161,
   "id": "046cea64",
   "metadata": {},
   "outputs": [
    {
     "ename": "InvalidSessionIdException",
     "evalue": "Message: Tried to run command without establishing a connection\n",
     "output_type": "error",
     "traceback": [
      "\u001b[0;31m---------------------------------------------------------------------------\u001b[0m",
      "\u001b[0;31mInvalidSessionIdException\u001b[0m                 Traceback (most recent call last)",
      "\u001b[0;32m<ipython-input-161-6b9e7cd5fb72>\u001b[0m in \u001b[0;36m<module>\u001b[0;34m\u001b[0m\n\u001b[0;32m----> 1\u001b[0;31m locale_search_box = WebDriverWait(browser, 30).until(EC.element_to_be_clickable(\n\u001b[0m\u001b[1;32m      2\u001b[0m     (By.XPATH, \"//div[@id='facetCard-2']//input[contains(@class,'up-typeahead-input-main')]\")))\n\u001b[1;32m      3\u001b[0m \u001b[0mlocale_search_box\u001b[0m\u001b[0;34m.\u001b[0m\u001b[0mclick\u001b[0m\u001b[0;34m(\u001b[0m\u001b[0;34m)\u001b[0m\u001b[0;34m\u001b[0m\u001b[0;34m\u001b[0m\u001b[0m\n\u001b[1;32m      4\u001b[0m \u001b[0mlocale_search_box\u001b[0m\u001b[0;34m.\u001b[0m\u001b[0msend_keys\u001b[0m\u001b[0;34m(\u001b[0m\u001b[0;34m'California'\u001b[0m\u001b[0;34m)\u001b[0m\u001b[0;34m\u001b[0m\u001b[0;34m\u001b[0m\u001b[0m\n\u001b[1;32m      5\u001b[0m \u001b[0mlocale_search_box\u001b[0m\u001b[0;34m.\u001b[0m\u001b[0msend_keys\u001b[0m\u001b[0;34m(\u001b[0m\u001b[0mKeys\u001b[0m\u001b[0;34m.\u001b[0m\u001b[0mRETURN\u001b[0m\u001b[0;34m)\u001b[0m\u001b[0;34m\u001b[0m\u001b[0;34m\u001b[0m\u001b[0m\n",
      "\u001b[0;32m/usr/local/lib/python3.9/site-packages/selenium/webdriver/support/wait.py\u001b[0m in \u001b[0;36muntil\u001b[0;34m(self, method, message)\u001b[0m\n\u001b[1;32m     69\u001b[0m         \u001b[0;32mwhile\u001b[0m \u001b[0;32mTrue\u001b[0m\u001b[0;34m:\u001b[0m\u001b[0;34m\u001b[0m\u001b[0;34m\u001b[0m\u001b[0m\n\u001b[1;32m     70\u001b[0m             \u001b[0;32mtry\u001b[0m\u001b[0;34m:\u001b[0m\u001b[0;34m\u001b[0m\u001b[0;34m\u001b[0m\u001b[0m\n\u001b[0;32m---> 71\u001b[0;31m                 \u001b[0mvalue\u001b[0m \u001b[0;34m=\u001b[0m \u001b[0mmethod\u001b[0m\u001b[0;34m(\u001b[0m\u001b[0mself\u001b[0m\u001b[0;34m.\u001b[0m\u001b[0m_driver\u001b[0m\u001b[0;34m)\u001b[0m\u001b[0;34m\u001b[0m\u001b[0;34m\u001b[0m\u001b[0m\n\u001b[0m\u001b[1;32m     72\u001b[0m                 \u001b[0;32mif\u001b[0m \u001b[0mvalue\u001b[0m\u001b[0;34m:\u001b[0m\u001b[0;34m\u001b[0m\u001b[0;34m\u001b[0m\u001b[0m\n\u001b[1;32m     73\u001b[0m                     \u001b[0;32mreturn\u001b[0m \u001b[0mvalue\u001b[0m\u001b[0;34m\u001b[0m\u001b[0;34m\u001b[0m\u001b[0m\n",
      "\u001b[0;32m/usr/local/lib/python3.9/site-packages/selenium/webdriver/support/expected_conditions.py\u001b[0m in \u001b[0;36m__call__\u001b[0;34m(self, driver)\u001b[0m\n\u001b[1;32m    295\u001b[0m \u001b[0;34m\u001b[0m\u001b[0m\n\u001b[1;32m    296\u001b[0m     \u001b[0;32mdef\u001b[0m \u001b[0m__call__\u001b[0m\u001b[0;34m(\u001b[0m\u001b[0mself\u001b[0m\u001b[0;34m,\u001b[0m \u001b[0mdriver\u001b[0m\u001b[0;34m)\u001b[0m\u001b[0;34m:\u001b[0m\u001b[0;34m\u001b[0m\u001b[0;34m\u001b[0m\u001b[0m\n\u001b[0;32m--> 297\u001b[0;31m         \u001b[0melement\u001b[0m \u001b[0;34m=\u001b[0m \u001b[0mvisibility_of_element_located\u001b[0m\u001b[0;34m(\u001b[0m\u001b[0mself\u001b[0m\u001b[0;34m.\u001b[0m\u001b[0mlocator\u001b[0m\u001b[0;34m)\u001b[0m\u001b[0;34m(\u001b[0m\u001b[0mdriver\u001b[0m\u001b[0;34m)\u001b[0m\u001b[0;34m\u001b[0m\u001b[0;34m\u001b[0m\u001b[0m\n\u001b[0m\u001b[1;32m    298\u001b[0m         \u001b[0;32mif\u001b[0m \u001b[0melement\u001b[0m \u001b[0;32mand\u001b[0m \u001b[0melement\u001b[0m\u001b[0;34m.\u001b[0m\u001b[0mis_enabled\u001b[0m\u001b[0;34m(\u001b[0m\u001b[0;34m)\u001b[0m\u001b[0;34m:\u001b[0m\u001b[0;34m\u001b[0m\u001b[0;34m\u001b[0m\u001b[0m\n\u001b[1;32m    299\u001b[0m             \u001b[0;32mreturn\u001b[0m \u001b[0melement\u001b[0m\u001b[0;34m\u001b[0m\u001b[0;34m\u001b[0m\u001b[0m\n",
      "\u001b[0;32m/usr/local/lib/python3.9/site-packages/selenium/webdriver/support/expected_conditions.py\u001b[0m in \u001b[0;36m__call__\u001b[0;34m(self, driver)\u001b[0m\n\u001b[1;32m    126\u001b[0m     \u001b[0;32mdef\u001b[0m \u001b[0m__call__\u001b[0m\u001b[0;34m(\u001b[0m\u001b[0mself\u001b[0m\u001b[0;34m,\u001b[0m \u001b[0mdriver\u001b[0m\u001b[0;34m)\u001b[0m\u001b[0;34m:\u001b[0m\u001b[0;34m\u001b[0m\u001b[0;34m\u001b[0m\u001b[0m\n\u001b[1;32m    127\u001b[0m         \u001b[0;32mtry\u001b[0m\u001b[0;34m:\u001b[0m\u001b[0;34m\u001b[0m\u001b[0;34m\u001b[0m\u001b[0m\n\u001b[0;32m--> 128\u001b[0;31m             \u001b[0;32mreturn\u001b[0m \u001b[0m_element_if_visible\u001b[0m\u001b[0;34m(\u001b[0m\u001b[0m_find_element\u001b[0m\u001b[0;34m(\u001b[0m\u001b[0mdriver\u001b[0m\u001b[0;34m,\u001b[0m \u001b[0mself\u001b[0m\u001b[0;34m.\u001b[0m\u001b[0mlocator\u001b[0m\u001b[0;34m)\u001b[0m\u001b[0;34m)\u001b[0m\u001b[0;34m\u001b[0m\u001b[0;34m\u001b[0m\u001b[0m\n\u001b[0m\u001b[1;32m    129\u001b[0m         \u001b[0;32mexcept\u001b[0m \u001b[0mStaleElementReferenceException\u001b[0m\u001b[0;34m:\u001b[0m\u001b[0;34m\u001b[0m\u001b[0;34m\u001b[0m\u001b[0m\n\u001b[1;32m    130\u001b[0m             \u001b[0;32mreturn\u001b[0m \u001b[0;32mFalse\u001b[0m\u001b[0;34m\u001b[0m\u001b[0;34m\u001b[0m\u001b[0m\n",
      "\u001b[0;32m/usr/local/lib/python3.9/site-packages/selenium/webdriver/support/expected_conditions.py\u001b[0m in \u001b[0;36m_find_element\u001b[0;34m(driver, by)\u001b[0m\n\u001b[1;32m    413\u001b[0m         \u001b[0;32mraise\u001b[0m \u001b[0me\u001b[0m\u001b[0;34m\u001b[0m\u001b[0;34m\u001b[0m\u001b[0m\n\u001b[1;32m    414\u001b[0m     \u001b[0;32mexcept\u001b[0m \u001b[0mWebDriverException\u001b[0m \u001b[0;32mas\u001b[0m \u001b[0me\u001b[0m\u001b[0;34m:\u001b[0m\u001b[0;34m\u001b[0m\u001b[0;34m\u001b[0m\u001b[0m\n\u001b[0;32m--> 415\u001b[0;31m         \u001b[0;32mraise\u001b[0m \u001b[0me\u001b[0m\u001b[0;34m\u001b[0m\u001b[0;34m\u001b[0m\u001b[0m\n\u001b[0m\u001b[1;32m    416\u001b[0m \u001b[0;34m\u001b[0m\u001b[0m\n\u001b[1;32m    417\u001b[0m \u001b[0;34m\u001b[0m\u001b[0m\n",
      "\u001b[0;32m/usr/local/lib/python3.9/site-packages/selenium/webdriver/support/expected_conditions.py\u001b[0m in \u001b[0;36m_find_element\u001b[0;34m(driver, by)\u001b[0m\n\u001b[1;32m    409\u001b[0m     if thrown.\"\"\"\n\u001b[1;32m    410\u001b[0m     \u001b[0;32mtry\u001b[0m\u001b[0;34m:\u001b[0m\u001b[0;34m\u001b[0m\u001b[0;34m\u001b[0m\u001b[0m\n\u001b[0;32m--> 411\u001b[0;31m         \u001b[0;32mreturn\u001b[0m \u001b[0mdriver\u001b[0m\u001b[0;34m.\u001b[0m\u001b[0mfind_element\u001b[0m\u001b[0;34m(\u001b[0m\u001b[0;34m*\u001b[0m\u001b[0mby\u001b[0m\u001b[0;34m)\u001b[0m\u001b[0;34m\u001b[0m\u001b[0;34m\u001b[0m\u001b[0m\n\u001b[0m\u001b[1;32m    412\u001b[0m     \u001b[0;32mexcept\u001b[0m \u001b[0mNoSuchElementException\u001b[0m \u001b[0;32mas\u001b[0m \u001b[0me\u001b[0m\u001b[0;34m:\u001b[0m\u001b[0;34m\u001b[0m\u001b[0;34m\u001b[0m\u001b[0m\n\u001b[1;32m    413\u001b[0m         \u001b[0;32mraise\u001b[0m \u001b[0me\u001b[0m\u001b[0;34m\u001b[0m\u001b[0;34m\u001b[0m\u001b[0m\n",
      "\u001b[0;32m/usr/local/lib/python3.9/site-packages/selenium/webdriver/remote/webdriver.py\u001b[0m in \u001b[0;36mfind_element\u001b[0;34m(self, by, value)\u001b[0m\n\u001b[1;32m    974\u001b[0m                 \u001b[0mby\u001b[0m \u001b[0;34m=\u001b[0m \u001b[0mBy\u001b[0m\u001b[0;34m.\u001b[0m\u001b[0mCSS_SELECTOR\u001b[0m\u001b[0;34m\u001b[0m\u001b[0;34m\u001b[0m\u001b[0m\n\u001b[1;32m    975\u001b[0m                 \u001b[0mvalue\u001b[0m \u001b[0;34m=\u001b[0m \u001b[0;34m'[name=\"%s\"]'\u001b[0m \u001b[0;34m%\u001b[0m \u001b[0mvalue\u001b[0m\u001b[0;34m\u001b[0m\u001b[0;34m\u001b[0m\u001b[0m\n\u001b[0;32m--> 976\u001b[0;31m         return self.execute(Command.FIND_ELEMENT, {\n\u001b[0m\u001b[1;32m    977\u001b[0m             \u001b[0;34m'using'\u001b[0m\u001b[0;34m:\u001b[0m \u001b[0mby\u001b[0m\u001b[0;34m,\u001b[0m\u001b[0;34m\u001b[0m\u001b[0;34m\u001b[0m\u001b[0m\n\u001b[1;32m    978\u001b[0m             'value': value})['value']\n",
      "\u001b[0;32m/usr/local/lib/python3.9/site-packages/selenium/webdriver/remote/webdriver.py\u001b[0m in \u001b[0;36mexecute\u001b[0;34m(self, driver_command, params)\u001b[0m\n\u001b[1;32m    319\u001b[0m         \u001b[0mresponse\u001b[0m \u001b[0;34m=\u001b[0m \u001b[0mself\u001b[0m\u001b[0;34m.\u001b[0m\u001b[0mcommand_executor\u001b[0m\u001b[0;34m.\u001b[0m\u001b[0mexecute\u001b[0m\u001b[0;34m(\u001b[0m\u001b[0mdriver_command\u001b[0m\u001b[0;34m,\u001b[0m \u001b[0mparams\u001b[0m\u001b[0;34m)\u001b[0m\u001b[0;34m\u001b[0m\u001b[0;34m\u001b[0m\u001b[0m\n\u001b[1;32m    320\u001b[0m         \u001b[0;32mif\u001b[0m \u001b[0mresponse\u001b[0m\u001b[0;34m:\u001b[0m\u001b[0;34m\u001b[0m\u001b[0;34m\u001b[0m\u001b[0m\n\u001b[0;32m--> 321\u001b[0;31m             \u001b[0mself\u001b[0m\u001b[0;34m.\u001b[0m\u001b[0merror_handler\u001b[0m\u001b[0;34m.\u001b[0m\u001b[0mcheck_response\u001b[0m\u001b[0;34m(\u001b[0m\u001b[0mresponse\u001b[0m\u001b[0;34m)\u001b[0m\u001b[0;34m\u001b[0m\u001b[0;34m\u001b[0m\u001b[0m\n\u001b[0m\u001b[1;32m    322\u001b[0m             response['value'] = self._unwrap_value(\n\u001b[1;32m    323\u001b[0m                 response.get('value', None))\n",
      "\u001b[0;32m/usr/local/lib/python3.9/site-packages/selenium/webdriver/remote/errorhandler.py\u001b[0m in \u001b[0;36mcheck_response\u001b[0;34m(self, response)\u001b[0m\n\u001b[1;32m    240\u001b[0m                 \u001b[0malert_text\u001b[0m \u001b[0;34m=\u001b[0m \u001b[0mvalue\u001b[0m\u001b[0;34m[\u001b[0m\u001b[0;34m'alert'\u001b[0m\u001b[0;34m]\u001b[0m\u001b[0;34m.\u001b[0m\u001b[0mget\u001b[0m\u001b[0;34m(\u001b[0m\u001b[0;34m'text'\u001b[0m\u001b[0;34m)\u001b[0m\u001b[0;34m\u001b[0m\u001b[0;34m\u001b[0m\u001b[0m\n\u001b[1;32m    241\u001b[0m             \u001b[0;32mraise\u001b[0m \u001b[0mexception_class\u001b[0m\u001b[0;34m(\u001b[0m\u001b[0mmessage\u001b[0m\u001b[0;34m,\u001b[0m \u001b[0mscreen\u001b[0m\u001b[0;34m,\u001b[0m \u001b[0mstacktrace\u001b[0m\u001b[0;34m,\u001b[0m \u001b[0malert_text\u001b[0m\u001b[0;34m)\u001b[0m\u001b[0;34m\u001b[0m\u001b[0;34m\u001b[0m\u001b[0m\n\u001b[0;32m--> 242\u001b[0;31m         \u001b[0;32mraise\u001b[0m \u001b[0mexception_class\u001b[0m\u001b[0;34m(\u001b[0m\u001b[0mmessage\u001b[0m\u001b[0;34m,\u001b[0m \u001b[0mscreen\u001b[0m\u001b[0;34m,\u001b[0m \u001b[0mstacktrace\u001b[0m\u001b[0;34m)\u001b[0m\u001b[0;34m\u001b[0m\u001b[0;34m\u001b[0m\u001b[0m\n\u001b[0m\u001b[1;32m    243\u001b[0m \u001b[0;34m\u001b[0m\u001b[0m\n\u001b[1;32m    244\u001b[0m     \u001b[0;32mdef\u001b[0m \u001b[0m_value_or_default\u001b[0m\u001b[0;34m(\u001b[0m\u001b[0mself\u001b[0m\u001b[0;34m,\u001b[0m \u001b[0mobj\u001b[0m\u001b[0;34m,\u001b[0m \u001b[0mkey\u001b[0m\u001b[0;34m,\u001b[0m \u001b[0mdefault\u001b[0m\u001b[0;34m)\u001b[0m\u001b[0;34m:\u001b[0m\u001b[0;34m\u001b[0m\u001b[0;34m\u001b[0m\u001b[0m\n",
      "\u001b[0;31mInvalidSessionIdException\u001b[0m: Message: Tried to run command without establishing a connection\n"
     ]
    }
   ],
   "source": [
    "locale_search_box = WebDriverWait(browser, 30).until(EC.element_to_be_clickable(\n",
    "    (By.XPATH, \"//div[@id='facetCard-2']//input[contains(@class,'up-typeahead-input-main')]\")))\n",
    "locale_search_box.click()\n",
    "locale_search_box.send_keys('California')\n",
    "locale_search_box.send_keys(Keys.RETURN)\n",
    "WebDriverWait(browser, 30).until(EC.element_to_be_clickable(\n",
    "    (By.XPATH, \"//strong[contains(text(), 'California')]\"))).click()"
   ]
  },
  {
   "cell_type": "code",
   "execution_count": 144,
   "id": "15ef8688",
   "metadata": {},
   "outputs": [],
   "source": [
    "cards = browser.find_elements_by_xpath(\"//div[contains(@class, 'up-card-section')]\")"
   ]
  },
  {
   "cell_type": "code",
   "execution_count": 145,
   "id": "ad7c3beb",
   "metadata": {},
   "outputs": [
    {
     "data": {
      "text/plain": [
       "[<selenium.webdriver.firefox.webelement.FirefoxWebElement (session=\"cfaa5306-e07f-b046-8867-d06686501126\", element=\"b34eca3e-eff5-5e44-b4c8-8b48e73277b5\")>,\n",
       " <selenium.webdriver.firefox.webelement.FirefoxWebElement (session=\"cfaa5306-e07f-b046-8867-d06686501126\", element=\"708890e9-cd65-a54d-b62b-36287e7c73a1\")>,\n",
       " <selenium.webdriver.firefox.webelement.FirefoxWebElement (session=\"cfaa5306-e07f-b046-8867-d06686501126\", element=\"7780692b-64d8-3e4b-942a-ba875dd93fc3\")>,\n",
       " <selenium.webdriver.firefox.webelement.FirefoxWebElement (session=\"cfaa5306-e07f-b046-8867-d06686501126\", element=\"a04e223a-6e55-2d4f-b1d2-e9f34d2d83c6\")>,\n",
       " <selenium.webdriver.firefox.webelement.FirefoxWebElement (session=\"cfaa5306-e07f-b046-8867-d06686501126\", element=\"34e5bd6a-1330-7141-bd21-a62b4c0fdb3b\")>,\n",
       " <selenium.webdriver.firefox.webelement.FirefoxWebElement (session=\"cfaa5306-e07f-b046-8867-d06686501126\", element=\"7d265711-f55d-234e-9a4a-597ec061cbf5\")>,\n",
       " <selenium.webdriver.firefox.webelement.FirefoxWebElement (session=\"cfaa5306-e07f-b046-8867-d06686501126\", element=\"b8184fc0-50de-3a4f-b012-b0dbcc582e13\")>,\n",
       " <selenium.webdriver.firefox.webelement.FirefoxWebElement (session=\"cfaa5306-e07f-b046-8867-d06686501126\", element=\"de0b0327-fbd1-ae41-b66b-1af697a1f95b\")>,\n",
       " <selenium.webdriver.firefox.webelement.FirefoxWebElement (session=\"cfaa5306-e07f-b046-8867-d06686501126\", element=\"ba0bbd19-86a6-2b4a-926f-27c1ca632a3b\")>,\n",
       " <selenium.webdriver.firefox.webelement.FirefoxWebElement (session=\"cfaa5306-e07f-b046-8867-d06686501126\", element=\"3b377198-642d-fc47-8e23-29ec449b2531\")>]"
      ]
     },
     "execution_count": 145,
     "metadata": {},
     "output_type": "execute_result"
    }
   ],
   "source": [
    "cards"
   ]
  },
  {
   "cell_type": "code",
   "execution_count": 146,
   "id": "b4ad2fc6",
   "metadata": {},
   "outputs": [],
   "source": [
    "card = cards[0]"
   ]
  },
  {
   "cell_type": "code",
   "execution_count": 147,
   "id": "fa59b9eb",
   "metadata": {},
   "outputs": [
    {
     "data": {
      "text/plain": [
       "<selenium.webdriver.firefox.webelement.FirefoxWebElement (session=\"cfaa5306-e07f-b046-8867-d06686501126\", element=\"b34eca3e-eff5-5e44-b4c8-8b48e73277b5\")>"
      ]
     },
     "execution_count": 147,
     "metadata": {},
     "output_type": "execute_result"
    }
   ],
   "source": [
    "card"
   ]
  },
  {
   "cell_type": "code",
   "execution_count": 148,
   "id": "a98d2123",
   "metadata": {},
   "outputs": [],
   "source": [
    "# name_button = card.find_element_by_xpath(\".//button[@itemprop='name']\")\n",
    "name_button = WebDriverWait(browser, 30).until(EC.element_to_be_clickable(\n",
    "    (By.XPATH, \".//button[@itemprop='name']\")))\n",
    "name_text = name_button.text\n",
    "city = card.find_element_by_xpath(\".//span[@itemprop='locality']\").text\n"
   ]
  },
  {
   "cell_type": "code",
   "execution_count": 126,
   "id": "8909ee89",
   "metadata": {},
   "outputs": [],
   "source": [
    "pagination = browser.find_element_by_xpath(\"//ul[@class='up-pagination']\")\\\n",
    "    .find_elements_by_xpath(\".//li[@class='pagination-link']\")"
   ]
  },
  {
   "cell_type": "code",
   "execution_count": 1,
   "id": "8cee0f8b",
   "metadata": {},
   "outputs": [],
   "source": [
    "import jsonlines"
   ]
  },
  {
   "cell_type": "code",
   "execution_count": 2,
   "id": "e005dbb2",
   "metadata": {},
   "outputs": [],
   "source": [
    "import pandas as pd"
   ]
  },
  {
   "cell_type": "code",
   "execution_count": 7,
   "id": "89153648",
   "metadata": {},
   "outputs": [],
   "source": [
    "df = pd.read_json('/Users/junyuyang/code/crawlers/upwork/freelancers.jsonl', lines=True)"
   ]
  },
  {
   "cell_type": "code",
   "execution_count": 8,
   "id": "fdc502be",
   "metadata": {
    "scrolled": true
   },
   "outputs": [
    {
     "data": {
      "text/html": [
       "<div>\n",
       "<style scoped>\n",
       "    .dataframe tbody tr th:only-of-type {\n",
       "        vertical-align: middle;\n",
       "    }\n",
       "\n",
       "    .dataframe tbody tr th {\n",
       "        vertical-align: top;\n",
       "    }\n",
       "\n",
       "    .dataframe thead th {\n",
       "        text-align: right;\n",
       "    }\n",
       "</style>\n",
       "<table border=\"1\" class=\"dataframe\">\n",
       "  <thead>\n",
       "    <tr style=\"text-align: right;\">\n",
       "      <th></th>\n",
       "      <th>name</th>\n",
       "      <th>title</th>\n",
       "      <th>city</th>\n",
       "      <th>salary</th>\n",
       "      <th>success</th>\n",
       "      <th>top_rated</th>\n",
       "      <th>url</th>\n",
       "    </tr>\n",
       "  </thead>\n",
       "  <tbody>\n",
       "    <tr>\n",
       "      <th>0</th>\n",
       "      <td>Nyla H.</td>\n",
       "      <td>Virtual Personal Assistant</td>\n",
       "      <td>Oakland</td>\n",
       "      <td>$20.00</td>\n",
       "      <td></td>\n",
       "      <td>False</td>\n",
       "      <td>https://www.upwork.com/freelancers/~0192dbc9d4...</td>\n",
       "    </tr>\n",
       "    <tr>\n",
       "      <th>1</th>\n",
       "      <td>Laura P.</td>\n",
       "      <td>Digital Marketing | Photoshop</td>\n",
       "      <td>San Francisco</td>\n",
       "      <td>$30.00</td>\n",
       "      <td></td>\n",
       "      <td>False</td>\n",
       "      <td>https://www.upwork.com/freelancers/~01b5372fbc...</td>\n",
       "    </tr>\n",
       "    <tr>\n",
       "      <th>2</th>\n",
       "      <td>song l.</td>\n",
       "      <td>Korean-English and Spanish-English Translator</td>\n",
       "      <td>San Francisco</td>\n",
       "      <td>$27.00</td>\n",
       "      <td>100% Job Success</td>\n",
       "      <td>True</td>\n",
       "      <td>https://www.upwork.com/freelancers/~01c85b8478...</td>\n",
       "    </tr>\n",
       "    <tr>\n",
       "      <th>3</th>\n",
       "      <td>Amanda P.</td>\n",
       "      <td>Strong Administrative / Clerical Support</td>\n",
       "      <td>Oakland</td>\n",
       "      <td>$25.00</td>\n",
       "      <td></td>\n",
       "      <td>False</td>\n",
       "      <td>https://www.upwork.com/freelancers/~01892e5080...</td>\n",
       "    </tr>\n",
       "    <tr>\n",
       "      <th>4</th>\n",
       "      <td>Alexis M.</td>\n",
       "      <td>Video Production Specialist | Graphic Designer</td>\n",
       "      <td>San Francisco</td>\n",
       "      <td>$27.00</td>\n",
       "      <td></td>\n",
       "      <td>True</td>\n",
       "      <td>https://www.upwork.com/freelancers/~01b5314a95...</td>\n",
       "    </tr>\n",
       "    <tr>\n",
       "      <th>...</th>\n",
       "      <td>...</td>\n",
       "      <td>...</td>\n",
       "      <td>...</td>\n",
       "      <td>...</td>\n",
       "      <td>...</td>\n",
       "      <td>...</td>\n",
       "      <td>...</td>\n",
       "    </tr>\n",
       "    <tr>\n",
       "      <th>320</th>\n",
       "      <td>Diane S.</td>\n",
       "      <td>Learning &amp; Development Generalist</td>\n",
       "      <td>San Francisco</td>\n",
       "      <td>$45.00</td>\n",
       "      <td></td>\n",
       "      <td>False</td>\n",
       "      <td>https://www.upwork.com/freelancers/~01aac22620...</td>\n",
       "    </tr>\n",
       "    <tr>\n",
       "      <th>321</th>\n",
       "      <td>Kevin H.</td>\n",
       "      <td>Software Developer</td>\n",
       "      <td>San Francisco</td>\n",
       "      <td>$40.00</td>\n",
       "      <td></td>\n",
       "      <td>False</td>\n",
       "      <td>https://www.upwork.com/freelancers/~01e25f1181...</td>\n",
       "    </tr>\n",
       "    <tr>\n",
       "      <th>322</th>\n",
       "      <td>Laura C.</td>\n",
       "      <td>Finance and Operations Manager</td>\n",
       "      <td>San Francisco</td>\n",
       "      <td>$65.00</td>\n",
       "      <td></td>\n",
       "      <td>False</td>\n",
       "      <td>https://www.upwork.com/freelancers/~01338d22c8...</td>\n",
       "    </tr>\n",
       "    <tr>\n",
       "      <th>323</th>\n",
       "      <td>Meili H.</td>\n",
       "      <td>CATTI Certified English-Chinese translator (8+...</td>\n",
       "      <td>San Francisco</td>\n",
       "      <td>$20.00</td>\n",
       "      <td>100% Job Success</td>\n",
       "      <td>True</td>\n",
       "      <td>https://www.upwork.com/freelancers/~0195a987b2...</td>\n",
       "    </tr>\n",
       "    <tr>\n",
       "      <th>324</th>\n",
       "      <td>Maria Renelda G.</td>\n",
       "      <td>ZenDesk Email customer support, SMM and reliab...</td>\n",
       "      <td>San Francisco</td>\n",
       "      <td>$25.00</td>\n",
       "      <td>100% Job Success</td>\n",
       "      <td>False</td>\n",
       "      <td>https://www.upwork.com/freelancers/~01e803d125...</td>\n",
       "    </tr>\n",
       "  </tbody>\n",
       "</table>\n",
       "<p>325 rows × 7 columns</p>\n",
       "</div>"
      ],
      "text/plain": [
       "                 name                                              title  \\\n",
       "0             Nyla H.                         Virtual Personal Assistant   \n",
       "1            Laura P.                      Digital Marketing | Photoshop   \n",
       "2             song l.      Korean-English and Spanish-English Translator   \n",
       "3           Amanda P.           Strong Administrative / Clerical Support   \n",
       "4           Alexis M.     Video Production Specialist | Graphic Designer   \n",
       "..                ...                                                ...   \n",
       "320          Diane S.                  Learning & Development Generalist   \n",
       "321          Kevin H.                                 Software Developer   \n",
       "322          Laura C.                     Finance and Operations Manager   \n",
       "323          Meili H.  CATTI Certified English-Chinese translator (8+...   \n",
       "324  Maria Renelda G.  ZenDesk Email customer support, SMM and reliab...   \n",
       "\n",
       "              city  salary           success  top_rated  \\\n",
       "0          Oakland  $20.00                        False   \n",
       "1    San Francisco  $30.00                        False   \n",
       "2    San Francisco  $27.00  100% Job Success       True   \n",
       "3          Oakland  $25.00                        False   \n",
       "4    San Francisco  $27.00                         True   \n",
       "..             ...     ...               ...        ...   \n",
       "320  San Francisco  $45.00                        False   \n",
       "321  San Francisco  $40.00                        False   \n",
       "322  San Francisco  $65.00                        False   \n",
       "323  San Francisco  $20.00  100% Job Success       True   \n",
       "324  San Francisco  $25.00  100% Job Success      False   \n",
       "\n",
       "                                                   url  \n",
       "0    https://www.upwork.com/freelancers/~0192dbc9d4...  \n",
       "1    https://www.upwork.com/freelancers/~01b5372fbc...  \n",
       "2    https://www.upwork.com/freelancers/~01c85b8478...  \n",
       "3    https://www.upwork.com/freelancers/~01892e5080...  \n",
       "4    https://www.upwork.com/freelancers/~01b5314a95...  \n",
       "..                                                 ...  \n",
       "320  https://www.upwork.com/freelancers/~01aac22620...  \n",
       "321  https://www.upwork.com/freelancers/~01e25f1181...  \n",
       "322  https://www.upwork.com/freelancers/~01338d22c8...  \n",
       "323  https://www.upwork.com/freelancers/~0195a987b2...  \n",
       "324  https://www.upwork.com/freelancers/~01e803d125...  \n",
       "\n",
       "[325 rows x 7 columns]"
      ]
     },
     "execution_count": 8,
     "metadata": {},
     "output_type": "execute_result"
    }
   ],
   "source": [
    "df"
   ]
  },
  {
   "cell_type": "code",
   "execution_count": 10,
   "id": "610523a4",
   "metadata": {},
   "outputs": [
    {
     "data": {
      "text/html": [
       "<div>\n",
       "<style scoped>\n",
       "    .dataframe tbody tr th:only-of-type {\n",
       "        vertical-align: middle;\n",
       "    }\n",
       "\n",
       "    .dataframe tbody tr th {\n",
       "        vertical-align: top;\n",
       "    }\n",
       "\n",
       "    .dataframe thead th {\n",
       "        text-align: right;\n",
       "    }\n",
       "</style>\n",
       "<table border=\"1\" class=\"dataframe\">\n",
       "  <thead>\n",
       "    <tr style=\"text-align: right;\">\n",
       "      <th></th>\n",
       "      <th>name</th>\n",
       "      <th>title</th>\n",
       "      <th>city</th>\n",
       "      <th>salary</th>\n",
       "      <th>success</th>\n",
       "      <th>top_rated</th>\n",
       "      <th>url</th>\n",
       "    </tr>\n",
       "  </thead>\n",
       "  <tbody>\n",
       "    <tr>\n",
       "      <th>2</th>\n",
       "      <td>song l.</td>\n",
       "      <td>Korean-English and Spanish-English Translator</td>\n",
       "      <td>San Francisco</td>\n",
       "      <td>$27.00</td>\n",
       "      <td>100% Job Success</td>\n",
       "      <td>True</td>\n",
       "      <td>https://www.upwork.com/freelancers/~01c85b8478...</td>\n",
       "    </tr>\n",
       "    <tr>\n",
       "      <th>5</th>\n",
       "      <td>Brittany K.</td>\n",
       "      <td>Editor | Assistant | Management</td>\n",
       "      <td>Oakland</td>\n",
       "      <td>$30.00</td>\n",
       "      <td>100% Job Success</td>\n",
       "      <td>True</td>\n",
       "      <td>https://www.upwork.com/freelancers/bkarim</td>\n",
       "    </tr>\n",
       "    <tr>\n",
       "      <th>7</th>\n",
       "      <td>Marie-Amelie B.</td>\n",
       "      <td>Editor and Proofreader in French</td>\n",
       "      <td>Berkeley</td>\n",
       "      <td>$15.00</td>\n",
       "      <td>100% Job Success</td>\n",
       "      <td>False</td>\n",
       "      <td>https://www.upwork.com/freelancers/~016ddd363b...</td>\n",
       "    </tr>\n",
       "    <tr>\n",
       "      <th>8</th>\n",
       "      <td>Ana N.</td>\n",
       "      <td>English Portuguese and Spanish Translator</td>\n",
       "      <td>San Francisco</td>\n",
       "      <td>$25.00</td>\n",
       "      <td>100% Job Success</td>\n",
       "      <td>True</td>\n",
       "      <td>https://www.upwork.com/freelancers/~014b7e57c1...</td>\n",
       "    </tr>\n",
       "    <tr>\n",
       "      <th>9</th>\n",
       "      <td>Sydney M.</td>\n",
       "      <td>Marketing designer for social media and web</td>\n",
       "      <td>San Francisco</td>\n",
       "      <td>$20.00</td>\n",
       "      <td>100% Job Success</td>\n",
       "      <td>False</td>\n",
       "      <td>https://www.upwork.com/freelancers/~0139fcdb86...</td>\n",
       "    </tr>\n",
       "    <tr>\n",
       "      <th>11</th>\n",
       "      <td>Isabel W.</td>\n",
       "      <td>Interdiscplinary Research Assistant and Editor</td>\n",
       "      <td>San Francisco</td>\n",
       "      <td>$25.00</td>\n",
       "      <td>100% Job Success</td>\n",
       "      <td>False</td>\n",
       "      <td>https://www.upwork.com/freelancers/~01187af712...</td>\n",
       "    </tr>\n",
       "    <tr>\n",
       "      <th>16</th>\n",
       "      <td>song l.</td>\n",
       "      <td>Korean-English and Spanish-English Translator</td>\n",
       "      <td>San Francisco</td>\n",
       "      <td>$27.00</td>\n",
       "      <td>100% Job Success</td>\n",
       "      <td>True</td>\n",
       "      <td>https://www.upwork.com/freelancers/~01c85b8478...</td>\n",
       "    </tr>\n",
       "    <tr>\n",
       "      <th>18</th>\n",
       "      <td>Sydney M.</td>\n",
       "      <td>Marketing designer for social media and web</td>\n",
       "      <td>San Francisco</td>\n",
       "      <td>$20.00</td>\n",
       "      <td>100% Job Success</td>\n",
       "      <td>False</td>\n",
       "      <td>https://www.upwork.com/freelancers/~0139fcdb86...</td>\n",
       "    </tr>\n",
       "    <tr>\n",
       "      <th>27</th>\n",
       "      <td>Mariah W.</td>\n",
       "      <td>Expert VA | C-Suite VA, Executive Assistant VA...</td>\n",
       "      <td>San Francisco</td>\n",
       "      <td>$35.00</td>\n",
       "      <td>100% Job Success</td>\n",
       "      <td>True</td>\n",
       "      <td>https://www.upwork.com/freelancers/~0190982f3f...</td>\n",
       "    </tr>\n",
       "    <tr>\n",
       "      <th>31</th>\n",
       "      <td>Amanda D.</td>\n",
       "      <td>VA: Social Media Strategy / Task Management / ...</td>\n",
       "      <td>San Francisco</td>\n",
       "      <td>$45.00</td>\n",
       "      <td>100% Job Success</td>\n",
       "      <td>False</td>\n",
       "      <td>https://www.upwork.com/freelancers/~018ab6956a...</td>\n",
       "    </tr>\n",
       "    <tr>\n",
       "      <th>36</th>\n",
       "      <td>Humberto C.</td>\n",
       "      <td>Writing</td>\n",
       "      <td>Berkeley</td>\n",
       "      <td>$25.00</td>\n",
       "      <td>100% Job Success</td>\n",
       "      <td>False</td>\n",
       "      <td>https://www.upwork.com/freelancers/~0149a0cd2f...</td>\n",
       "    </tr>\n",
       "    <tr>\n",
       "      <th>42</th>\n",
       "      <td>Marie-Amelie B.</td>\n",
       "      <td>Editor and Proofreader in French</td>\n",
       "      <td>Berkeley</td>\n",
       "      <td>$15.00</td>\n",
       "      <td>100% Job Success</td>\n",
       "      <td>False</td>\n",
       "      <td>https://www.upwork.com/freelancers/~016ddd363b...</td>\n",
       "    </tr>\n",
       "    <tr>\n",
       "      <th>43</th>\n",
       "      <td>Mollyn R.</td>\n",
       "      <td>Data Entry | Blog writer | Proofreader | Pharm...</td>\n",
       "      <td>San Francisco</td>\n",
       "      <td>$20.00</td>\n",
       "      <td>100% Job Success</td>\n",
       "      <td>False</td>\n",
       "      <td>https://www.upwork.com/freelancers/~0175d8f8c2...</td>\n",
       "    </tr>\n",
       "    <tr>\n",
       "      <th>45</th>\n",
       "      <td>Sadie-Rae W.</td>\n",
       "      <td>Law Student, Journalist, Blogger, Former Balle...</td>\n",
       "      <td>San Francisco</td>\n",
       "      <td>$15.00</td>\n",
       "      <td>100% Job Success</td>\n",
       "      <td>True</td>\n",
       "      <td>https://www.upwork.com/freelancers/~01511902eb...</td>\n",
       "    </tr>\n",
       "    <tr>\n",
       "      <th>74</th>\n",
       "      <td>Erica H.</td>\n",
       "      <td>Award-winning writer and storyteller</td>\n",
       "      <td>San Francisco</td>\n",
       "      <td>$100.00</td>\n",
       "      <td>100% Job Success</td>\n",
       "      <td>True</td>\n",
       "      <td>https://www.upwork.com/freelancers/~0119b7b744...</td>\n",
       "    </tr>\n",
       "    <tr>\n",
       "      <th>89</th>\n",
       "      <td>Zechariah M.</td>\n",
       "      <td>Building Your Brand Smarter - Graphic and Web ...</td>\n",
       "      <td>San Francisco</td>\n",
       "      <td>$100.00</td>\n",
       "      <td>100% Job Success</td>\n",
       "      <td>True</td>\n",
       "      <td>https://www.upwork.com/freelancers/zechariahma...</td>\n",
       "    </tr>\n",
       "    <tr>\n",
       "      <th>90</th>\n",
       "      <td>Elizabeth K.</td>\n",
       "      <td>Customer Service Technical Engineer</td>\n",
       "      <td>San Francisco</td>\n",
       "      <td>$55.00</td>\n",
       "      <td>100% Job Success</td>\n",
       "      <td>True</td>\n",
       "      <td>https://www.upwork.com/freelancers/~01fdd0a5d6...</td>\n",
       "    </tr>\n",
       "    <tr>\n",
       "      <th>100</th>\n",
       "      <td>Alex C.</td>\n",
       "      <td>Professional Videographer and Video Editor</td>\n",
       "      <td>San Francisco</td>\n",
       "      <td>$150.00</td>\n",
       "      <td>100% Job Success</td>\n",
       "      <td>True</td>\n",
       "      <td>https://www.upwork.com/freelancers/alexcruzver...</td>\n",
       "    </tr>\n",
       "    <tr>\n",
       "      <th>126</th>\n",
       "      <td>Erica H.</td>\n",
       "      <td>Award-winning writer and storyteller</td>\n",
       "      <td>San Francisco</td>\n",
       "      <td>$100.00</td>\n",
       "      <td>100% Job Success</td>\n",
       "      <td>True</td>\n",
       "      <td>https://www.upwork.com/freelancers/~0119b7b744...</td>\n",
       "    </tr>\n",
       "    <tr>\n",
       "      <th>131</th>\n",
       "      <td>Miho A.</td>\n",
       "      <td>English/Japanese Medical/Pharmaceutical Transl...</td>\n",
       "      <td>San Francisco</td>\n",
       "      <td>$40.00</td>\n",
       "      <td>100% Job Success</td>\n",
       "      <td>True</td>\n",
       "      <td>https://www.upwork.com/freelancers/~019e41e882...</td>\n",
       "    </tr>\n",
       "    <tr>\n",
       "      <th>132</th>\n",
       "      <td>Arthur L.</td>\n",
       "      <td>Illustrator</td>\n",
       "      <td>San Francisco</td>\n",
       "      <td>$40.00</td>\n",
       "      <td>100% Job Success</td>\n",
       "      <td>True</td>\n",
       "      <td>https://www.upwork.com/freelancers/~01164658bb...</td>\n",
       "    </tr>\n",
       "    <tr>\n",
       "      <th>155</th>\n",
       "      <td>Kiri M.</td>\n",
       "      <td>Sustainable Designer-Bags, Backpacks, Shoes, Y...</td>\n",
       "      <td>Berkeley</td>\n",
       "      <td>$95.00</td>\n",
       "      <td>100% Job Success</td>\n",
       "      <td>True</td>\n",
       "      <td>https://www.upwork.com/freelancers/~01070e9b72...</td>\n",
       "    </tr>\n",
       "    <tr>\n",
       "      <th>183</th>\n",
       "      <td>Monica T.</td>\n",
       "      <td>Tech-savvy and intelligent executive assistant...</td>\n",
       "      <td>Oakland</td>\n",
       "      <td>$75.00</td>\n",
       "      <td>100% Job Success</td>\n",
       "      <td>True</td>\n",
       "      <td>https://www.upwork.com/freelancers/itsmonica</td>\n",
       "    </tr>\n",
       "    <tr>\n",
       "      <th>184</th>\n",
       "      <td>Patrick S.</td>\n",
       "      <td>Data Analytics (and some Dev)</td>\n",
       "      <td>Berkeley</td>\n",
       "      <td>$45.00</td>\n",
       "      <td>100% Job Success</td>\n",
       "      <td>False</td>\n",
       "      <td>https://www.upwork.com/freelancers/~01a48c3ffc...</td>\n",
       "    </tr>\n",
       "    <tr>\n",
       "      <th>186</th>\n",
       "      <td>Christopher M.</td>\n",
       "      <td>Illustrator and Designer</td>\n",
       "      <td>San Francisco</td>\n",
       "      <td>$50.00</td>\n",
       "      <td>100% Job Success</td>\n",
       "      <td>True</td>\n",
       "      <td>https://www.upwork.com/freelancers/~01c45470db...</td>\n",
       "    </tr>\n",
       "    <tr>\n",
       "      <th>204</th>\n",
       "      <td>Lara M.</td>\n",
       "      <td>Media Relations</td>\n",
       "      <td>San Francisco</td>\n",
       "      <td>$85.00</td>\n",
       "      <td>100% Job Success</td>\n",
       "      <td>True</td>\n",
       "      <td>https://www.upwork.com/freelancers/~01c5072a44...</td>\n",
       "    </tr>\n",
       "    <tr>\n",
       "      <th>206</th>\n",
       "      <td>Susy B.</td>\n",
       "      <td>Professional Graphic Designer/Marketing Designer</td>\n",
       "      <td>San Francisco</td>\n",
       "      <td>$85.00</td>\n",
       "      <td>100% Job Success</td>\n",
       "      <td>True</td>\n",
       "      <td>https://www.upwork.com/freelancers/~01298db1b0...</td>\n",
       "    </tr>\n",
       "    <tr>\n",
       "      <th>208</th>\n",
       "      <td>Chris M.</td>\n",
       "      <td>Hubspot Certified Content Marketing Strategist...</td>\n",
       "      <td>Berkeley</td>\n",
       "      <td>$125.00</td>\n",
       "      <td>100% Job Success</td>\n",
       "      <td>True</td>\n",
       "      <td>https://www.upwork.com/freelancers/~01e97c3a15...</td>\n",
       "    </tr>\n",
       "    <tr>\n",
       "      <th>209</th>\n",
       "      <td>Jeremy G.</td>\n",
       "      <td>Senior Full Stack PM / Designer / Developer / ...</td>\n",
       "      <td>Berkeley</td>\n",
       "      <td>$125.00</td>\n",
       "      <td>100% Job Success</td>\n",
       "      <td>True</td>\n",
       "      <td>https://www.upwork.com/freelancers/~01e54276b2...</td>\n",
       "    </tr>\n",
       "    <tr>\n",
       "      <th>210</th>\n",
       "      <td>Neil G.</td>\n",
       "      <td>Video Editor, VFX Artist, Videographer</td>\n",
       "      <td>San Francisco</td>\n",
       "      <td>$50.00</td>\n",
       "      <td>100% Job Success</td>\n",
       "      <td>True</td>\n",
       "      <td>https://www.upwork.com/freelancers/~01eea20181...</td>\n",
       "    </tr>\n",
       "    <tr>\n",
       "      <th>213</th>\n",
       "      <td>Mitchell D.</td>\n",
       "      <td>Ghostwriter - Creative Writer/Content Creator ...</td>\n",
       "      <td>San Francisco</td>\n",
       "      <td>$40.00</td>\n",
       "      <td>100% Job Success</td>\n",
       "      <td>True</td>\n",
       "      <td>https://www.upwork.com/freelancers/~01b894c8b9...</td>\n",
       "    </tr>\n",
       "    <tr>\n",
       "      <th>215</th>\n",
       "      <td>Lizaveta R.</td>\n",
       "      <td>Business Analyst at Detecon Inc. USA</td>\n",
       "      <td>San Francisco</td>\n",
       "      <td>$40.00</td>\n",
       "      <td>100% Job Success</td>\n",
       "      <td>False</td>\n",
       "      <td>https://www.upwork.com/freelancers/~01f5014c8b...</td>\n",
       "    </tr>\n",
       "    <tr>\n",
       "      <th>216</th>\n",
       "      <td>Georgia G.</td>\n",
       "      <td>Former magazine Beauty Director with years of ...</td>\n",
       "      <td>San Francisco</td>\n",
       "      <td>$60.00</td>\n",
       "      <td>100% Job Success</td>\n",
       "      <td>True</td>\n",
       "      <td>https://www.upwork.com/freelancers/~01f7b6a63f...</td>\n",
       "    </tr>\n",
       "    <tr>\n",
       "      <th>262</th>\n",
       "      <td>Hailee D.</td>\n",
       "      <td>Video Editor - Photographer</td>\n",
       "      <td>Oakland</td>\n",
       "      <td>$40.00</td>\n",
       "      <td>100% Job Success</td>\n",
       "      <td>False</td>\n",
       "      <td>https://www.upwork.com/freelancers/~0144a39bac...</td>\n",
       "    </tr>\n",
       "    <tr>\n",
       "      <th>316</th>\n",
       "      <td>Casey H.</td>\n",
       "      <td>Certified Public Accountant (CPA)</td>\n",
       "      <td>San Francisco</td>\n",
       "      <td>$62.50</td>\n",
       "      <td>100% Job Success</td>\n",
       "      <td>False</td>\n",
       "      <td>https://www.upwork.com/freelancers/caseyh118</td>\n",
       "    </tr>\n",
       "    <tr>\n",
       "      <th>323</th>\n",
       "      <td>Meili H.</td>\n",
       "      <td>CATTI Certified English-Chinese translator (8+...</td>\n",
       "      <td>San Francisco</td>\n",
       "      <td>$20.00</td>\n",
       "      <td>100% Job Success</td>\n",
       "      <td>True</td>\n",
       "      <td>https://www.upwork.com/freelancers/~0195a987b2...</td>\n",
       "    </tr>\n",
       "    <tr>\n",
       "      <th>324</th>\n",
       "      <td>Maria Renelda G.</td>\n",
       "      <td>ZenDesk Email customer support, SMM and reliab...</td>\n",
       "      <td>San Francisco</td>\n",
       "      <td>$25.00</td>\n",
       "      <td>100% Job Success</td>\n",
       "      <td>False</td>\n",
       "      <td>https://www.upwork.com/freelancers/~01e803d125...</td>\n",
       "    </tr>\n",
       "  </tbody>\n",
       "</table>\n",
       "</div>"
      ],
      "text/plain": [
       "                 name                                              title  \\\n",
       "2             song l.      Korean-English and Spanish-English Translator   \n",
       "5         Brittany K.                    Editor | Assistant | Management   \n",
       "7     Marie-Amelie B.                   Editor and Proofreader in French   \n",
       "8              Ana N.          English Portuguese and Spanish Translator   \n",
       "9           Sydney M.        Marketing designer for social media and web   \n",
       "11          Isabel W.     Interdiscplinary Research Assistant and Editor   \n",
       "16            song l.      Korean-English and Spanish-English Translator   \n",
       "18          Sydney M.        Marketing designer for social media and web   \n",
       "27          Mariah W.  Expert VA | C-Suite VA, Executive Assistant VA...   \n",
       "31          Amanda D.  VA: Social Media Strategy / Task Management / ...   \n",
       "36        Humberto C.                                            Writing   \n",
       "42    Marie-Amelie B.                   Editor and Proofreader in French   \n",
       "43          Mollyn R.  Data Entry | Blog writer | Proofreader | Pharm...   \n",
       "45       Sadie-Rae W.  Law Student, Journalist, Blogger, Former Balle...   \n",
       "74           Erica H.               Award-winning writer and storyteller   \n",
       "89       Zechariah M.  Building Your Brand Smarter - Graphic and Web ...   \n",
       "90       Elizabeth K.                Customer Service Technical Engineer   \n",
       "100           Alex C.         Professional Videographer and Video Editor   \n",
       "126          Erica H.               Award-winning writer and storyteller   \n",
       "131           Miho A.  English/Japanese Medical/Pharmaceutical Transl...   \n",
       "132         Arthur L.                                        Illustrator   \n",
       "155           Kiri M.  Sustainable Designer-Bags, Backpacks, Shoes, Y...   \n",
       "183         Monica T.  Tech-savvy and intelligent executive assistant...   \n",
       "184        Patrick S.                      Data Analytics (and some Dev)   \n",
       "186    Christopher M.                           Illustrator and Designer   \n",
       "204           Lara M.                                    Media Relations   \n",
       "206           Susy B.   Professional Graphic Designer/Marketing Designer   \n",
       "208          Chris M.  Hubspot Certified Content Marketing Strategist...   \n",
       "209         Jeremy G.  Senior Full Stack PM / Designer / Developer / ...   \n",
       "210           Neil G.             Video Editor, VFX Artist, Videographer   \n",
       "213       Mitchell D.  Ghostwriter - Creative Writer/Content Creator ...   \n",
       "215       Lizaveta R.               Business Analyst at Detecon Inc. USA   \n",
       "216        Georgia G.  Former magazine Beauty Director with years of ...   \n",
       "262         Hailee D.                        Video Editor - Photographer   \n",
       "316          Casey H.                  Certified Public Accountant (CPA)   \n",
       "323          Meili H.  CATTI Certified English-Chinese translator (8+...   \n",
       "324  Maria Renelda G.  ZenDesk Email customer support, SMM and reliab...   \n",
       "\n",
       "              city   salary           success  top_rated  \\\n",
       "2    San Francisco   $27.00  100% Job Success       True   \n",
       "5          Oakland   $30.00  100% Job Success       True   \n",
       "7         Berkeley   $15.00  100% Job Success      False   \n",
       "8    San Francisco   $25.00  100% Job Success       True   \n",
       "9    San Francisco   $20.00  100% Job Success      False   \n",
       "11   San Francisco   $25.00  100% Job Success      False   \n",
       "16   San Francisco   $27.00  100% Job Success       True   \n",
       "18   San Francisco   $20.00  100% Job Success      False   \n",
       "27   San Francisco   $35.00  100% Job Success       True   \n",
       "31   San Francisco   $45.00  100% Job Success      False   \n",
       "36        Berkeley   $25.00  100% Job Success      False   \n",
       "42        Berkeley   $15.00  100% Job Success      False   \n",
       "43   San Francisco   $20.00  100% Job Success      False   \n",
       "45   San Francisco   $15.00  100% Job Success       True   \n",
       "74   San Francisco  $100.00  100% Job Success       True   \n",
       "89   San Francisco  $100.00  100% Job Success       True   \n",
       "90   San Francisco   $55.00  100% Job Success       True   \n",
       "100  San Francisco  $150.00  100% Job Success       True   \n",
       "126  San Francisco  $100.00  100% Job Success       True   \n",
       "131  San Francisco   $40.00  100% Job Success       True   \n",
       "132  San Francisco   $40.00  100% Job Success       True   \n",
       "155       Berkeley   $95.00  100% Job Success       True   \n",
       "183        Oakland   $75.00  100% Job Success       True   \n",
       "184       Berkeley   $45.00  100% Job Success      False   \n",
       "186  San Francisco   $50.00  100% Job Success       True   \n",
       "204  San Francisco   $85.00  100% Job Success       True   \n",
       "206  San Francisco   $85.00  100% Job Success       True   \n",
       "208       Berkeley  $125.00  100% Job Success       True   \n",
       "209       Berkeley  $125.00  100% Job Success       True   \n",
       "210  San Francisco   $50.00  100% Job Success       True   \n",
       "213  San Francisco   $40.00  100% Job Success       True   \n",
       "215  San Francisco   $40.00  100% Job Success      False   \n",
       "216  San Francisco   $60.00  100% Job Success       True   \n",
       "262        Oakland   $40.00  100% Job Success      False   \n",
       "316  San Francisco   $62.50  100% Job Success      False   \n",
       "323  San Francisco   $20.00  100% Job Success       True   \n",
       "324  San Francisco   $25.00  100% Job Success      False   \n",
       "\n",
       "                                                   url  \n",
       "2    https://www.upwork.com/freelancers/~01c85b8478...  \n",
       "5            https://www.upwork.com/freelancers/bkarim  \n",
       "7    https://www.upwork.com/freelancers/~016ddd363b...  \n",
       "8    https://www.upwork.com/freelancers/~014b7e57c1...  \n",
       "9    https://www.upwork.com/freelancers/~0139fcdb86...  \n",
       "11   https://www.upwork.com/freelancers/~01187af712...  \n",
       "16   https://www.upwork.com/freelancers/~01c85b8478...  \n",
       "18   https://www.upwork.com/freelancers/~0139fcdb86...  \n",
       "27   https://www.upwork.com/freelancers/~0190982f3f...  \n",
       "31   https://www.upwork.com/freelancers/~018ab6956a...  \n",
       "36   https://www.upwork.com/freelancers/~0149a0cd2f...  \n",
       "42   https://www.upwork.com/freelancers/~016ddd363b...  \n",
       "43   https://www.upwork.com/freelancers/~0175d8f8c2...  \n",
       "45   https://www.upwork.com/freelancers/~01511902eb...  \n",
       "74   https://www.upwork.com/freelancers/~0119b7b744...  \n",
       "89   https://www.upwork.com/freelancers/zechariahma...  \n",
       "90   https://www.upwork.com/freelancers/~01fdd0a5d6...  \n",
       "100  https://www.upwork.com/freelancers/alexcruzver...  \n",
       "126  https://www.upwork.com/freelancers/~0119b7b744...  \n",
       "131  https://www.upwork.com/freelancers/~019e41e882...  \n",
       "132  https://www.upwork.com/freelancers/~01164658bb...  \n",
       "155  https://www.upwork.com/freelancers/~01070e9b72...  \n",
       "183       https://www.upwork.com/freelancers/itsmonica  \n",
       "184  https://www.upwork.com/freelancers/~01a48c3ffc...  \n",
       "186  https://www.upwork.com/freelancers/~01c45470db...  \n",
       "204  https://www.upwork.com/freelancers/~01c5072a44...  \n",
       "206  https://www.upwork.com/freelancers/~01298db1b0...  \n",
       "208  https://www.upwork.com/freelancers/~01e97c3a15...  \n",
       "209  https://www.upwork.com/freelancers/~01e54276b2...  \n",
       "210  https://www.upwork.com/freelancers/~01eea20181...  \n",
       "213  https://www.upwork.com/freelancers/~01b894c8b9...  \n",
       "215  https://www.upwork.com/freelancers/~01f5014c8b...  \n",
       "216  https://www.upwork.com/freelancers/~01f7b6a63f...  \n",
       "262  https://www.upwork.com/freelancers/~0144a39bac...  \n",
       "316       https://www.upwork.com/freelancers/caseyh118  \n",
       "323  https://www.upwork.com/freelancers/~0195a987b2...  \n",
       "324  https://www.upwork.com/freelancers/~01e803d125...  "
      ]
     },
     "execution_count": 10,
     "metadata": {},
     "output_type": "execute_result"
    }
   ],
   "source": [
    "df[df.success.str.contains('100')]"
   ]
  },
  {
   "cell_type": "code",
   "execution_count": null,
   "id": "67440c9a",
   "metadata": {},
   "outputs": [],
   "source": []
  },
  {
   "cell_type": "code",
   "execution_count": null,
   "id": "0982cdf8",
   "metadata": {},
   "outputs": [],
   "source": []
  },
  {
   "cell_type": "code",
   "execution_count": null,
   "id": "32dbb25a",
   "metadata": {},
   "outputs": [],
   "source": []
  },
  {
   "cell_type": "code",
   "execution_count": null,
   "id": "ff6abbbe",
   "metadata": {},
   "outputs": [],
   "source": []
  },
  {
   "cell_type": "code",
   "execution_count": null,
   "id": "ff164c81",
   "metadata": {},
   "outputs": [],
   "source": []
  },
  {
   "cell_type": "code",
   "execution_count": null,
   "id": "45990555",
   "metadata": {},
   "outputs": [],
   "source": []
  },
  {
   "cell_type": "code",
   "execution_count": 211,
   "id": "36c1309a",
   "metadata": {},
   "outputs": [],
   "source": [
    "import os\n",
    "if os.path.exists(\"/Users/junyuyang/code/notebooks/freelancers.jsonl\"):\n",
    "  os.remove(\"/Users/junyuyang/code/notebooks/freelancers.jsonl\")"
   ]
  },
  {
   "cell_type": "code",
   "execution_count": 174,
   "id": "e8d41d32",
   "metadata": {},
   "outputs": [],
   "source": [
    "import time\n",
    "import jsonlines\n",
    "from selenium import webdriver\n",
    "from selenium.webdriver.common.keys import Keys\n",
    "from selenium.webdriver.common.by import By\n",
    "from selenium.webdriver.support.ui import WebDriverWait\n",
    "from selenium.webdriver.support import expected_conditions as EC\n",
    "from selenium.webdriver.common.action_chains import ActionChains"
   ]
  },
  {
   "cell_type": "code",
   "execution_count": 175,
   "id": "e8d50ead",
   "metadata": {},
   "outputs": [],
   "source": [
    "\n",
    "driver = webdriver.Firefox()\n",
    "driver.get('https://www.upwork.com/') # go to website\n",
    "\n",
    "WebDriverWait(driver, 30).until(EC.element_to_be_clickable(\n",
    "    (By.XPATH, \"//a[contains(@class,'login-link')]\"))).click()\n",
    "userbox = WebDriverWait(driver, 30).until(EC.element_to_be_clickable(\n",
    "    (By.XPATH, \"//input[@id='login_username']\")))\n",
    "userbox.click()\n",
    "userbox.send_keys('yangjunyu')\n",
    "userbox.send_keys(Keys.RETURN)\n",
    "\n",
    "pwbox = WebDriverWait(driver, 30).until(EC.element_to_be_clickable(\n",
    "    (By.XPATH, \"//input[@id='login_password']\")))\n",
    "pwbox.click()\n",
    "pwbox.send_keys('happy2dai')\n",
    "pwbox.send_keys(Keys.RETURN)\n",
    "\n",
    "avatar = WebDriverWait(driver, 30).until(EC.element_to_be_clickable(\n",
    "    (By.XPATH, \"//img[contains(@class,'nav-user-avatar')]\")))\n",
    "avatar.click()\n",
    "\n",
    "WebDriverWait(driver, 30).until(EC.element_to_be_clickable(\n",
    "    (By.XPATH, \"//div[contains(text(),'Water Bear LLC')]\"))).click()\n",
    "\n",
    "time.sleep(3)\n",
    "\n",
    "search_box = WebDriverWait(driver, 30).until(EC.element_to_be_clickable(\n",
    "    (By.XPATH, \"//div[@id='nav-main']//input[contains(@class, 'nav-search-catalog-input')]\")))\n",
    "search_box.click()\n",
    "search_box.send_keys('personal assistant')\n",
    "search_box.send_keys(Keys.RETURN)\n"
   ]
  },
  {
   "cell_type": "code",
   "execution_count": 176,
   "id": "43c58989",
   "metadata": {},
   "outputs": [],
   "source": [
    "time.sleep(3)\n",
    "locale_search_box = WebDriverWait(driver, 10).until(EC.element_to_be_clickable((By.XPATH, \"//div[@id='facetCard-2']//input\")))\n",
    "time.sleep(1)\n",
    "locale_search_box.click()\n",
    "time.sleep(1)\n",
    "locale_search_box = WebDriverWait(driver, 10).until(EC.element_to_be_clickable((By.XPATH, \"//div[@id='facetCard-2']//input\")))\n",
    "locale_search_box.send_keys('California')\n",
    "time.sleep(1)\n",
    "WebDriverWait(driver, 10).until(EC.element_to_be_clickable(\n",
    "    (By.XPATH, \"//strong[contains(text(), 'California')]\"))).click()\n"
   ]
  },
  {
   "cell_type": "code",
   "execution_count": 177,
   "id": "8ec8833d",
   "metadata": {},
   "outputs": [],
   "source": [
    "time.sleep(3)\n",
    "cards = driver.find_elements_by_xpath(\"//div[contains(@class, 'up-card-section')]\")"
   ]
  },
  {
   "cell_type": "code",
   "execution_count": 207,
   "id": "e461fde2",
   "metadata": {},
   "outputs": [],
   "source": [
    "for card in cards:\n",
    "    name_button = card.find_element_by_xpath(\".//button[@itemprop='name']\")\n",
    "    name_text = name_button.text\n",
    "    city = card.find_element_by_xpath(\".//span[@itemprop='locality']\").text\n",
    "    salary = card.find_element_by_xpath(\".//span[@data-v-2aaa2a81='']\").text\n",
    "    ss = card.find_elements_by_xpath(\".//span[@class='up-job-success-text']\")\n",
    "    success = ss[0].text if len(ss)>0 else ''\n",
    "    tt = card.find_elements_by_xpath(\".//span[contains(@class,'top-rated-badge-status')]\")\n",
    "    top_rated = len(tt)>0\n",
    "    \n",
    "    driver.execute_script(\"arguments[0].scrollIntoView();\", name_button)\n",
    "    ActionChains(driver).move_to_element(name_button).key_down(Keys.COMMAND).click(name_button).key_up(Keys.COMMAND).perform()\n",
    "    time.sleep(0.5)\n",
    "    \n",
    "    cur = driver.current_window_handle\n",
    "    chwd = driver.window_handles\n",
    "    driver.switch_to.window(chwd[-1])\n",
    "    \n",
    "    WebDriverWait(driver, 10).until(EC.element_to_be_clickable((By.XPATH, \"//h1\")))\n",
    "    freelancer = {\n",
    "        'name':name_text,\n",
    "        'city':city,\n",
    "        'salary':salary,\n",
    "        'success':success,\n",
    "        'top_rated':top_rated,\n",
    "        'url':driver.current_url\n",
    "        }\n",
    "    with jsonlines.open('freelancers.jsonl', mode='a') as writer:\n",
    "        writer.write(freelancer)\n",
    "    driver.close()\n",
    "    driver.switch_to.window(cur)\n",
    "    \n",
    "    "
   ]
  },
  {
   "cell_type": "code",
   "execution_count": 203,
   "id": "86c9bbc3",
   "metadata": {},
   "outputs": [
    {
     "data": {
      "text/plain": [
       "{'name': 'Christy S.',\n",
       " 'city': 'Rancho Cucamonga',\n",
       " 'salary': '$25.00',\n",
       " 'success': <selenium.webdriver.firefox.webelement.FirefoxWebElement (session=\"f66c82ae-bfcf-3044-8410-eb542ced54c8\", element=\"a4ada4da-8736-784c-b4fc-ab07441f85bc\")>,\n",
       " 'top_rated': False,\n",
       " 'url': 'https://www.upwork.com/freelancers/~0198993c894f088426'}"
      ]
     },
     "execution_count": 203,
     "metadata": {},
     "output_type": "execute_result"
    }
   ],
   "source": [
    "freelancer"
   ]
  },
  {
   "cell_type": "code",
   "execution_count": 205,
   "id": "d18306d4",
   "metadata": {},
   "outputs": [],
   "source": [
    "driver.switch_to.window(cur)"
   ]
  },
  {
   "cell_type": "code",
   "execution_count": 188,
   "id": "8a5aa41f",
   "metadata": {},
   "outputs": [],
   "source": [
    "driver.execute_script(\"arguments[0].scrollIntoView();\", name_button)"
   ]
  },
  {
   "cell_type": "code",
   "execution_count": 185,
   "id": "7652e425",
   "metadata": {},
   "outputs": [
    {
     "data": {
      "text/plain": [
       "<selenium.webdriver.firefox.webelement.FirefoxWebElement (session=\"f66c82ae-bfcf-3044-8410-eb542ced54c8\", element=\"01057c09-cffd-8c4b-9d06-4279e76e311d\")>"
      ]
     },
     "execution_count": 185,
     "metadata": {},
     "output_type": "execute_result"
    }
   ],
   "source": [
    "card.find_element_by_xpath(\".//button[@itemprop='name']\")"
   ]
  },
  {
   "cell_type": "code",
   "execution_count": 181,
   "id": "c65f6c87",
   "metadata": {},
   "outputs": [
    {
     "data": {
      "text/plain": [
       "'Sade F.\\nVirtual Executive Assistant\\nSan Leandro, CA\\nSave Sade F.\\nInvite to Job\\n$30.00 /hr\\n$9k+ earned\\nMy experience aligns with what you’re looking for in a Executive Assistant. My educational background in business as well as my professional experience as an executive assistant, makes me an excellent candidate for your position. Some of my qualifications include typing 85 WPM, answering phones or e-mail, managing website and email marketing campaigns, working with Postgrads, and dealing directly with alumni. As you will see from the enclosed resume, in addition to working in the alumni department, I have more than 5 years of experience in the field of Executive Assistant and Office Manager. My resume shows that I have been consistently rewarded for hard work with promotions and increased responsibilities. These rewards are a direct result of my expertise in my commitment to personal and professional excellence, and my excellent written and oral communication skills.\\nSuggested because they worked on\\n1 job that matches your search.\\nSkip skills\\nSpanish - Castilian (Spain)\\nTyping\\nEmail Communication\\nData Entry\\nPayroll Accounting\\nPayroll Processing\\nScheduling\\nGoogle Suite\\nMicrosoft Office 365\\nScroll Right'"
      ]
     },
     "execution_count": 181,
     "metadata": {},
     "output_type": "execute_result"
    }
   ],
   "source": [
    "card.text"
   ]
  },
  {
   "cell_type": "code",
   "execution_count": 190,
   "id": "98ec00a3",
   "metadata": {},
   "outputs": [],
   "source": [
    "card = cards[-2]"
   ]
  },
  {
   "cell_type": "code",
   "execution_count": 191,
   "id": "c3d0c69f",
   "metadata": {},
   "outputs": [],
   "source": [
    "name_button = card.find_element_by_xpath(\".//button[@itemprop='name']\")\n",
    "name_text = name_button.text"
   ]
  },
  {
   "cell_type": "code",
   "execution_count": 192,
   "id": "ba7bf166",
   "metadata": {},
   "outputs": [],
   "source": [
    "ss = card.find_elements_by_xpath(\".//span[@class='up-job-success-text']\")"
   ]
  },
  {
   "cell_type": "code",
   "execution_count": 193,
   "id": "e471a67e",
   "metadata": {},
   "outputs": [
    {
     "data": {
      "text/plain": [
       "[<selenium.webdriver.firefox.webelement.FirefoxWebElement (session=\"f66c82ae-bfcf-3044-8410-eb542ced54c8\", element=\"4eb14141-6c2f-c547-a2f6-cf5a3b790dbb\")>]"
      ]
     },
     "execution_count": 193,
     "metadata": {},
     "output_type": "execute_result"
    }
   ],
   "source": [
    "\n",
    "ss"
   ]
  },
  {
   "cell_type": "code",
   "execution_count": 196,
   "id": "87a41d4f",
   "metadata": {},
   "outputs": [],
   "source": [
    "success = ss[0].text if len(ss)>0 else ''"
   ]
  },
  {
   "cell_type": "code",
   "execution_count": 197,
   "id": "608dd48e",
   "metadata": {},
   "outputs": [
    {
     "data": {
      "text/plain": [
       "'100% Job Success'"
      ]
     },
     "execution_count": 197,
     "metadata": {},
     "output_type": "execute_result"
    }
   ],
   "source": [
    "success"
   ]
  },
  {
   "cell_type": "code",
   "execution_count": 212,
   "id": "9887a00f",
   "metadata": {},
   "outputs": [],
   "source": [
    "pagination = driver.find_element_by_xpath(\"//ul[@class='up-pagination']\").find_elements_by_xpath(\".//li[@class='pagination-link']\")"
   ]
  },
  {
   "cell_type": "code",
   "execution_count": 213,
   "id": "c56d6667",
   "metadata": {},
   "outputs": [],
   "source": [
    "pagination = driver.find_element_by_xpath(\"//ul[@class='up-pagination']\").find_elements_by_xpath(\".//li[@class='pagination-link']\")\n"
   ]
  },
  {
   "cell_type": "code",
   "execution_count": 214,
   "id": "562fb42c",
   "metadata": {},
   "outputs": [
    {
     "data": {
      "text/plain": [
       "[<selenium.webdriver.firefox.webelement.FirefoxWebElement (session=\"f66c82ae-bfcf-3044-8410-eb542ced54c8\", element=\"70baa03b-7ed5-8e46-9bad-25b2520b71a4\")>,\n",
       " <selenium.webdriver.firefox.webelement.FirefoxWebElement (session=\"f66c82ae-bfcf-3044-8410-eb542ced54c8\", element=\"a424a4da-65c9-cf43-9f1d-4396f19bec67\")>]"
      ]
     },
     "execution_count": 214,
     "metadata": {},
     "output_type": "execute_result"
    }
   ],
   "source": [
    "pagination"
   ]
  },
  {
   "cell_type": "code",
   "execution_count": 215,
   "id": "6dc701c1",
   "metadata": {},
   "outputs": [
    {
     "data": {
      "text/plain": [
       "True"
      ]
     },
     "execution_count": 215,
     "metadata": {},
     "output_type": "execute_result"
    }
   ],
   "source": [
    "not (pagination[-1].find_element_by_xpath('button').get_attribute('disabled') == 'true')"
   ]
  },
  {
   "cell_type": "code",
   "execution_count": 216,
   "id": "c4720d3f",
   "metadata": {},
   "outputs": [],
   "source": [
    "pagination[-1].click()"
   ]
  },
  {
   "cell_type": "code",
   "execution_count": null,
   "id": "5d60f465",
   "metadata": {},
   "outputs": [],
   "source": []
  },
  {
   "cell_type": "code",
   "execution_count": 233,
   "id": "8d689e61",
   "metadata": {},
   "outputs": [],
   "source": [
    "import os\n",
    "import time\n",
    "import jsonlines\n",
    "from selenium import webdriver\n",
    "from selenium.webdriver.common.keys import Keys\n",
    "from selenium.webdriver.common.by import By\n",
    "from selenium.webdriver.support.ui import WebDriverWait\n",
    "from selenium.webdriver.support import expected_conditions as EC\n",
    "from selenium.webdriver.common.action_chains import ActionChains"
   ]
  },
  {
   "cell_type": "code",
   "execution_count": 238,
   "id": "93275c2a",
   "metadata": {},
   "outputs": [],
   "source": [
    "\n",
    "OUTPUT_FILE = 'freelancers.jsonl'\n",
    "if os.path.exists(OUTPUT_FILE):\n",
    "  os.remove(OUTPUT_FILE)\n",
    "\n",
    "driver = webdriver.Firefox()\n",
    "driver.get('https://www.upwork.com/') # go to website\n",
    "\n",
    "WebDriverWait(driver, 30).until(EC.element_to_be_clickable(\n",
    "    (By.XPATH, \"//a[contains(@class,'login-link')]\"))).click()\n",
    "userbox = WebDriverWait(driver, 30).until(EC.element_to_be_clickable(\n",
    "    (By.XPATH, \"//input[@id='login_username']\")))\n",
    "userbox.click()\n",
    "userbox.send_keys('yangjunyu')\n",
    "userbox.send_keys(Keys.RETURN)\n",
    "\n",
    "pwbox = WebDriverWait(driver, 30).until(EC.element_to_be_clickable(\n",
    "    (By.XPATH, \"//input[@id='login_password']\")))\n",
    "pwbox.click()\n",
    "pwbox.send_keys('happy2dai')\n",
    "pwbox.send_keys(Keys.RETURN)\n",
    "\n",
    "avatar = WebDriverWait(driver, 30).until(EC.element_to_be_clickable(\n",
    "    (By.XPATH, \"//img[contains(@class,'nav-user-avatar')]\")))\n",
    "avatar.click()\n",
    "\n",
    "WebDriverWait(driver, 30).until(EC.element_to_be_clickable(\n",
    "    (By.XPATH, \"//div[contains(text(),'Water Bear LLC')]\"))).click()\n",
    "\n",
    "time.sleep(3)\n",
    "\n",
    "search_box = WebDriverWait(driver, 30).until(EC.element_to_be_clickable(\n",
    "    (By.XPATH, \"//div[@id='nav-main']//input[contains(@class, 'nav-search-catalog-input')]\")))\n",
    "search_box.click()\n",
    "search_box.send_keys('personal assistant')\n",
    "search_box.send_keys(Keys.RETURN)"
   ]
  },
  {
   "cell_type": "code",
   "execution_count": 239,
   "id": "6b4e74af",
   "metadata": {},
   "outputs": [],
   "source": [
    "\n",
    "time.sleep(3)\n",
    "locale_search_box = WebDriverWait(driver, 10).until(EC.element_to_be_clickable((By.XPATH, \"//div[@id='facetCard-2']//input\")))\n",
    "time.sleep(1)\n",
    "locale_search_box.click()\n",
    "time.sleep(1)\n",
    "locale_search_box = WebDriverWait(driver, 10).until(EC.element_to_be_clickable((By.XPATH, \"//div[@id='facetCard-2']//input\")))\n",
    "locale_search_box.send_keys('California')\n",
    "time.sleep(1)\n",
    "WebDriverWait(driver, 10).until(EC.element_to_be_clickable(\n",
    "    (By.XPATH, \"//strong[contains(text(), 'California')]\"))).click()"
   ]
  },
  {
   "cell_type": "code",
   "execution_count": 240,
   "id": "e5db5cc4",
   "metadata": {},
   "outputs": [],
   "source": [
    "def check_page(driver):\n",
    "    time.sleep(3)\n",
    "    cards = driver.find_elements_by_xpath(\"//div[contains(@class, 'up-card-section')]\")\n",
    "    for card in cards:\n",
    "        name_button = card.find_element_by_xpath(\".//button[@itemprop='name']\")\n",
    "        name_text = name_button.text\n",
    "        titles = card.find_elements_by_xpath(\".//p[contains(@class, 'freelancer-title')]\")\n",
    "        title = titles[0].text if len(titles)>0 else ''\n",
    "        city = card.find_element_by_xpath(\".//span[@itemprop='locality']\").text\n",
    "        salary = card.find_element_by_xpath(\".//span[@data-v-2aaa2a81='']\").text\n",
    "        ss = card.find_elements_by_xpath(\".//span[@class='up-job-success-text']\")\n",
    "        success = ss[0].text if len(ss)>0 else ''\n",
    "        tt = card.find_elements_by_xpath(\".//span[contains(@class,'top-rated-badge-status')]\")\n",
    "        top_rated = len(tt)>0\n",
    "\n",
    "        if (city == 'Oakland') | (city == 'Berkeley') | (city == 'San Francisco'):\n",
    "            driver.execute_script(\"arguments[0].scrollIntoView();\", name_button) # scroll the viewport to the element \n",
    "            ActionChains(driver).move_to_element(name_button).key_down(Keys.COMMAND).click(name_button).key_up(Keys.COMMAND).perform()\n",
    "            time.sleep(0.5)\n",
    "            cur = driver.current_window_handle\n",
    "            chwd = driver.window_handles\n",
    "            driver.switch_to.window(chwd[-1])\n",
    "            WebDriverWait(driver, 10).until(EC.element_to_be_clickable((By.XPATH, \"//h1\")))\n",
    "            freelancer = {\n",
    "                'name':name_text,\n",
    "                'title': title,\n",
    "                'city':city,\n",
    "                'salary':salary,\n",
    "                'success':success,\n",
    "                'top_rated':top_rated,\n",
    "                'url':driver.current_url\n",
    "                }\n",
    "            # write out to the jsonl file\n",
    "            with jsonlines.open(OUTPUT_FILE, mode='a') as writer:\n",
    "                writer.write(freelancer)\n",
    "            driver.close()\n",
    "            driver.switch_to.window(cur)\n",
    "            time.sleep(0.5)\n"
   ]
  },
  {
   "cell_type": "code",
   "execution_count": 237,
   "id": "9539fb51",
   "metadata": {},
   "outputs": [
    {
     "ename": "KeyboardInterrupt",
     "evalue": "",
     "output_type": "error",
     "traceback": [
      "\u001b[0;31m-----------------------------------------------------------------------\u001b[0m",
      "\u001b[0;31mKeyboardInterrupt\u001b[0m                     Traceback (most recent call last)",
      "\u001b[0;32m<ipython-input-237-f6f3fe379b5b>\u001b[0m in \u001b[0;36m<module>\u001b[0;34m\u001b[0m\n\u001b[1;32m      1\u001b[0m \u001b[0;32mwhile\u001b[0m \u001b[0;32mTrue\u001b[0m\u001b[0;34m:\u001b[0m\u001b[0;34m\u001b[0m\u001b[0;34m\u001b[0m\u001b[0m\n\u001b[0;32m----> 2\u001b[0;31m     \u001b[0mtime\u001b[0m\u001b[0;34m.\u001b[0m\u001b[0msleep\u001b[0m\u001b[0;34m(\u001b[0m\u001b[0;36m2\u001b[0m\u001b[0;34m)\u001b[0m\u001b[0;34m\u001b[0m\u001b[0;34m\u001b[0m\u001b[0m\n\u001b[0m\u001b[1;32m      3\u001b[0m     \u001b[0mWebDriverWait\u001b[0m\u001b[0;34m(\u001b[0m\u001b[0mdriver\u001b[0m\u001b[0;34m,\u001b[0m \u001b[0;36m10\u001b[0m\u001b[0;34m)\u001b[0m\u001b[0;34m.\u001b[0m\u001b[0muntil\u001b[0m\u001b[0;34m(\u001b[0m\u001b[0mEC\u001b[0m\u001b[0;34m.\u001b[0m\u001b[0melement_to_be_clickable\u001b[0m\u001b[0;34m(\u001b[0m\u001b[0;34m(\u001b[0m\u001b[0mBy\u001b[0m\u001b[0;34m.\u001b[0m\u001b[0mXPATH\u001b[0m\u001b[0;34m,\u001b[0m \u001b[0;34m\"//ul[@class='up-pagination']\"\u001b[0m\u001b[0;34m)\u001b[0m\u001b[0;34m)\u001b[0m\u001b[0;34m)\u001b[0m\u001b[0;34m\u001b[0m\u001b[0;34m\u001b[0m\u001b[0m\n\u001b[1;32m      4\u001b[0m     \u001b[0mpagination\u001b[0m \u001b[0;34m=\u001b[0m \u001b[0mdriver\u001b[0m\u001b[0;34m.\u001b[0m\u001b[0mfind_element_by_xpath\u001b[0m\u001b[0;34m(\u001b[0m\u001b[0;34m\"//ul[@class='up-pagination']\"\u001b[0m\u001b[0;34m)\u001b[0m\u001b[0;34m.\u001b[0m\u001b[0mfind_elements_by_xpath\u001b[0m\u001b[0;34m(\u001b[0m\u001b[0;34m\".//li[@class='pagination-link']\"\u001b[0m\u001b[0;34m)\u001b[0m\u001b[0;34m\u001b[0m\u001b[0;34m\u001b[0m\u001b[0m\n\u001b[1;32m      5\u001b[0m     \u001b[0mcheck_page\u001b[0m\u001b[0;34m(\u001b[0m\u001b[0mdriver\u001b[0m\u001b[0;34m)\u001b[0m\u001b[0;34m\u001b[0m\u001b[0;34m\u001b[0m\u001b[0m\n",
      "\u001b[0;31mKeyboardInterrupt\u001b[0m: "
     ]
    }
   ],
   "source": [
    "while True:\n",
    "    time.sleep(2)\n",
    "    WebDriverWait(driver, 10).until(EC.element_to_be_clickable((By.XPATH, \"//ul[@class='up-pagination']\")))\n",
    "    pagination = driver.find_element_by_xpath(\"//ul[@class='up-pagination']\").find_elements_by_xpath(\".//li[@class='pagination-link']\")\n",
    "    check_page(driver)\n",
    "\n",
    "    if (pagination[-1].find_element_by_xpath('button').get_attribute('disabled') == 'true'):\n",
    "        break\n",
    "    pagination[-1].click()"
   ]
  },
  {
   "cell_type": "code",
   "execution_count": 245,
   "id": "8918ef9a",
   "metadata": {},
   "outputs": [],
   "source": [
    "cards = driver.find_elements_by_xpath(\"//div[contains(@class, 'up-card-section')]\")\n",
    "card = cards[0]"
   ]
  },
  {
   "cell_type": "code",
   "execution_count": 246,
   "id": "cde75ea0",
   "metadata": {},
   "outputs": [
    {
     "data": {
      "text/plain": [
       "<selenium.webdriver.firefox.webelement.FirefoxWebElement (session=\"32219a60-301e-7b4d-9123-7621a49399da\", element=\"98b5b30e-d598-9e47-91bb-c8639e755d5f\")>"
      ]
     },
     "execution_count": 246,
     "metadata": {},
     "output_type": "execute_result"
    }
   ],
   "source": [
    "card.find_element_by_xpath(\".//p[contains(@class, 'freelancer-title')]\")"
   ]
  },
  {
   "cell_type": "code",
   "execution_count": 247,
   "id": "2c3cb22b",
   "metadata": {},
   "outputs": [
    {
     "data": {
      "text/plain": [
       "'Virtual Personal Assistant'"
      ]
     },
     "execution_count": 247,
     "metadata": {},
     "output_type": "execute_result"
    }
   ],
   "source": [
    ".text"
   ]
  },
  {
   "cell_type": "code",
   "execution_count": 243,
   "id": "4e77b789",
   "metadata": {},
   "outputs": [
    {
     "ename": "MaxRetryError",
     "evalue": "HTTPConnectionPool(host='127.0.0.1', port=57483): Max retries exceeded with url: /session/f66c82ae-bfcf-3044-8410-eb542ced54c8/element/ff21e144-0f67-084b-b346-aa677799eeb9/element (Caused by NewConnectionError('<urllib3.connection.HTTPConnection object at 0x127714d00>: Failed to establish a new connection: [Errno 61] Connection refused'))",
     "output_type": "error",
     "traceback": [
      "\u001b[0;31m-----------------------------------------------------------------------\u001b[0m",
      "\u001b[0;31mConnectionRefusedError\u001b[0m                Traceback (most recent call last)",
      "\u001b[0;32m/usr/local/lib/python3.9/site-packages/urllib3/connection.py\u001b[0m in \u001b[0;36m_new_conn\u001b[0;34m(self)\u001b[0m\n\u001b[1;32m    168\u001b[0m         \u001b[0;32mtry\u001b[0m\u001b[0;34m:\u001b[0m\u001b[0;34m\u001b[0m\u001b[0;34m\u001b[0m\u001b[0m\n\u001b[0;32m--> 169\u001b[0;31m             conn = connection.create_connection(\n\u001b[0m\u001b[1;32m    170\u001b[0m                 \u001b[0;34m(\u001b[0m\u001b[0mself\u001b[0m\u001b[0;34m.\u001b[0m\u001b[0m_dns_host\u001b[0m\u001b[0;34m,\u001b[0m \u001b[0mself\u001b[0m\u001b[0;34m.\u001b[0m\u001b[0mport\u001b[0m\u001b[0;34m)\u001b[0m\u001b[0;34m,\u001b[0m \u001b[0mself\u001b[0m\u001b[0;34m.\u001b[0m\u001b[0mtimeout\u001b[0m\u001b[0;34m,\u001b[0m \u001b[0;34m**\u001b[0m\u001b[0mextra_kw\u001b[0m\u001b[0;34m\u001b[0m\u001b[0;34m\u001b[0m\u001b[0m\n",
      "\u001b[0;32m/usr/local/lib/python3.9/site-packages/urllib3/util/connection.py\u001b[0m in \u001b[0;36mcreate_connection\u001b[0;34m(address, timeout, source_address, socket_options)\u001b[0m\n\u001b[1;32m     95\u001b[0m     \u001b[0;32mif\u001b[0m \u001b[0merr\u001b[0m \u001b[0;32mis\u001b[0m \u001b[0;32mnot\u001b[0m \u001b[0;32mNone\u001b[0m\u001b[0;34m:\u001b[0m\u001b[0;34m\u001b[0m\u001b[0;34m\u001b[0m\u001b[0m\n\u001b[0;32m---> 96\u001b[0;31m         \u001b[0;32mraise\u001b[0m \u001b[0merr\u001b[0m\u001b[0;34m\u001b[0m\u001b[0;34m\u001b[0m\u001b[0m\n\u001b[0m\u001b[1;32m     97\u001b[0m \u001b[0;34m\u001b[0m\u001b[0m\n",
      "\u001b[0;32m/usr/local/lib/python3.9/site-packages/urllib3/util/connection.py\u001b[0m in \u001b[0;36mcreate_connection\u001b[0;34m(address, timeout, source_address, socket_options)\u001b[0m\n\u001b[1;32m     85\u001b[0m                 \u001b[0msock\u001b[0m\u001b[0;34m.\u001b[0m\u001b[0mbind\u001b[0m\u001b[0;34m(\u001b[0m\u001b[0msource_address\u001b[0m\u001b[0;34m)\u001b[0m\u001b[0;34m\u001b[0m\u001b[0;34m\u001b[0m\u001b[0m\n\u001b[0;32m---> 86\u001b[0;31m             \u001b[0msock\u001b[0m\u001b[0;34m.\u001b[0m\u001b[0mconnect\u001b[0m\u001b[0;34m(\u001b[0m\u001b[0msa\u001b[0m\u001b[0;34m)\u001b[0m\u001b[0;34m\u001b[0m\u001b[0;34m\u001b[0m\u001b[0m\n\u001b[0m\u001b[1;32m     87\u001b[0m             \u001b[0;32mreturn\u001b[0m \u001b[0msock\u001b[0m\u001b[0;34m\u001b[0m\u001b[0;34m\u001b[0m\u001b[0m\n",
      "\u001b[0;31mConnectionRefusedError\u001b[0m: [Errno 61] Connection refused",
      "\nDuring handling of the above exception, another exception occurred:\n",
      "\u001b[0;31mNewConnectionError\u001b[0m                    Traceback (most recent call last)",
      "\u001b[0;32m/usr/local/lib/python3.9/site-packages/urllib3/connectionpool.py\u001b[0m in \u001b[0;36murlopen\u001b[0;34m(self, method, url, body, headers, retries, redirect, assert_same_host, timeout, pool_timeout, release_conn, chunked, body_pos, **response_kw)\u001b[0m\n\u001b[1;32m    698\u001b[0m             \u001b[0;31m# Make the request on the httplib connection object.\u001b[0m\u001b[0;34m\u001b[0m\u001b[0;34m\u001b[0m\u001b[0;34m\u001b[0m\u001b[0m\n\u001b[0;32m--> 699\u001b[0;31m             httplib_response = self._make_request(\n\u001b[0m\u001b[1;32m    700\u001b[0m                 \u001b[0mconn\u001b[0m\u001b[0;34m,\u001b[0m\u001b[0;34m\u001b[0m\u001b[0;34m\u001b[0m\u001b[0m\n",
      "\u001b[0;32m/usr/local/lib/python3.9/site-packages/urllib3/connectionpool.py\u001b[0m in \u001b[0;36m_make_request\u001b[0;34m(self, conn, method, url, timeout, chunked, **httplib_request_kw)\u001b[0m\n\u001b[1;32m    393\u001b[0m             \u001b[0;32melse\u001b[0m\u001b[0;34m:\u001b[0m\u001b[0;34m\u001b[0m\u001b[0;34m\u001b[0m\u001b[0m\n\u001b[0;32m--> 394\u001b[0;31m                 \u001b[0mconn\u001b[0m\u001b[0;34m.\u001b[0m\u001b[0mrequest\u001b[0m\u001b[0;34m(\u001b[0m\u001b[0mmethod\u001b[0m\u001b[0;34m,\u001b[0m \u001b[0murl\u001b[0m\u001b[0;34m,\u001b[0m \u001b[0;34m**\u001b[0m\u001b[0mhttplib_request_kw\u001b[0m\u001b[0;34m)\u001b[0m\u001b[0;34m\u001b[0m\u001b[0;34m\u001b[0m\u001b[0m\n\u001b[0m\u001b[1;32m    395\u001b[0m \u001b[0;34m\u001b[0m\u001b[0m\n",
      "\u001b[0;32m/usr/local/lib/python3.9/site-packages/urllib3/connection.py\u001b[0m in \u001b[0;36mrequest\u001b[0;34m(self, method, url, body, headers)\u001b[0m\n\u001b[1;32m    233\u001b[0m             \u001b[0mheaders\u001b[0m\u001b[0;34m[\u001b[0m\u001b[0;34m\"User-Agent\"\u001b[0m\u001b[0;34m]\u001b[0m \u001b[0;34m=\u001b[0m \u001b[0m_get_default_user_agent\u001b[0m\u001b[0;34m(\u001b[0m\u001b[0;34m)\u001b[0m\u001b[0;34m\u001b[0m\u001b[0;34m\u001b[0m\u001b[0m\n\u001b[0;32m--> 234\u001b[0;31m         \u001b[0msuper\u001b[0m\u001b[0;34m(\u001b[0m\u001b[0mHTTPConnection\u001b[0m\u001b[0;34m,\u001b[0m \u001b[0mself\u001b[0m\u001b[0;34m)\u001b[0m\u001b[0;34m.\u001b[0m\u001b[0mrequest\u001b[0m\u001b[0;34m(\u001b[0m\u001b[0mmethod\u001b[0m\u001b[0;34m,\u001b[0m \u001b[0murl\u001b[0m\u001b[0;34m,\u001b[0m \u001b[0mbody\u001b[0m\u001b[0;34m=\u001b[0m\u001b[0mbody\u001b[0m\u001b[0;34m,\u001b[0m \u001b[0mheaders\u001b[0m\u001b[0;34m=\u001b[0m\u001b[0mheaders\u001b[0m\u001b[0;34m)\u001b[0m\u001b[0;34m\u001b[0m\u001b[0;34m\u001b[0m\u001b[0m\n\u001b[0m\u001b[1;32m    235\u001b[0m \u001b[0;34m\u001b[0m\u001b[0m\n",
      "\u001b[0;32m/usr/local/Cellar/python@3.9/3.9.5/Frameworks/Python.framework/Versions/3.9/lib/python3.9/http/client.py\u001b[0m in \u001b[0;36mrequest\u001b[0;34m(self, method, url, body, headers, encode_chunked)\u001b[0m\n\u001b[1;32m   1252\u001b[0m         \u001b[0;34m\"\"\"Send a complete request to the server.\"\"\"\u001b[0m\u001b[0;34m\u001b[0m\u001b[0;34m\u001b[0m\u001b[0m\n\u001b[0;32m-> 1253\u001b[0;31m         \u001b[0mself\u001b[0m\u001b[0;34m.\u001b[0m\u001b[0m_send_request\u001b[0m\u001b[0;34m(\u001b[0m\u001b[0mmethod\u001b[0m\u001b[0;34m,\u001b[0m \u001b[0murl\u001b[0m\u001b[0;34m,\u001b[0m \u001b[0mbody\u001b[0m\u001b[0;34m,\u001b[0m \u001b[0mheaders\u001b[0m\u001b[0;34m,\u001b[0m \u001b[0mencode_chunked\u001b[0m\u001b[0;34m)\u001b[0m\u001b[0;34m\u001b[0m\u001b[0;34m\u001b[0m\u001b[0m\n\u001b[0m\u001b[1;32m   1254\u001b[0m \u001b[0;34m\u001b[0m\u001b[0m\n",
      "\u001b[0;32m/usr/local/Cellar/python@3.9/3.9.5/Frameworks/Python.framework/Versions/3.9/lib/python3.9/http/client.py\u001b[0m in \u001b[0;36m_send_request\u001b[0;34m(self, method, url, body, headers, encode_chunked)\u001b[0m\n\u001b[1;32m   1298\u001b[0m             \u001b[0mbody\u001b[0m \u001b[0;34m=\u001b[0m \u001b[0m_encode\u001b[0m\u001b[0;34m(\u001b[0m\u001b[0mbody\u001b[0m\u001b[0;34m,\u001b[0m \u001b[0;34m'body'\u001b[0m\u001b[0;34m)\u001b[0m\u001b[0;34m\u001b[0m\u001b[0;34m\u001b[0m\u001b[0m\n\u001b[0;32m-> 1299\u001b[0;31m         \u001b[0mself\u001b[0m\u001b[0;34m.\u001b[0m\u001b[0mendheaders\u001b[0m\u001b[0;34m(\u001b[0m\u001b[0mbody\u001b[0m\u001b[0;34m,\u001b[0m \u001b[0mencode_chunked\u001b[0m\u001b[0;34m=\u001b[0m\u001b[0mencode_chunked\u001b[0m\u001b[0;34m)\u001b[0m\u001b[0;34m\u001b[0m\u001b[0;34m\u001b[0m\u001b[0m\n\u001b[0m\u001b[1;32m   1300\u001b[0m \u001b[0;34m\u001b[0m\u001b[0m\n",
      "\u001b[0;32m/usr/local/Cellar/python@3.9/3.9.5/Frameworks/Python.framework/Versions/3.9/lib/python3.9/http/client.py\u001b[0m in \u001b[0;36mendheaders\u001b[0;34m(self, message_body, encode_chunked)\u001b[0m\n\u001b[1;32m   1247\u001b[0m             \u001b[0;32mraise\u001b[0m \u001b[0mCannotSendHeader\u001b[0m\u001b[0;34m(\u001b[0m\u001b[0;34m)\u001b[0m\u001b[0;34m\u001b[0m\u001b[0;34m\u001b[0m\u001b[0m\n\u001b[0;32m-> 1248\u001b[0;31m         \u001b[0mself\u001b[0m\u001b[0;34m.\u001b[0m\u001b[0m_send_output\u001b[0m\u001b[0;34m(\u001b[0m\u001b[0mmessage_body\u001b[0m\u001b[0;34m,\u001b[0m \u001b[0mencode_chunked\u001b[0m\u001b[0;34m=\u001b[0m\u001b[0mencode_chunked\u001b[0m\u001b[0;34m)\u001b[0m\u001b[0;34m\u001b[0m\u001b[0;34m\u001b[0m\u001b[0m\n\u001b[0m\u001b[1;32m   1249\u001b[0m \u001b[0;34m\u001b[0m\u001b[0m\n",
      "\u001b[0;32m/usr/local/Cellar/python@3.9/3.9.5/Frameworks/Python.framework/Versions/3.9/lib/python3.9/http/client.py\u001b[0m in \u001b[0;36m_send_output\u001b[0;34m(self, message_body, encode_chunked)\u001b[0m\n\u001b[1;32m   1007\u001b[0m         \u001b[0;32mdel\u001b[0m \u001b[0mself\u001b[0m\u001b[0;34m.\u001b[0m\u001b[0m_buffer\u001b[0m\u001b[0;34m[\u001b[0m\u001b[0;34m:\u001b[0m\u001b[0;34m]\u001b[0m\u001b[0;34m\u001b[0m\u001b[0;34m\u001b[0m\u001b[0m\n\u001b[0;32m-> 1008\u001b[0;31m         \u001b[0mself\u001b[0m\u001b[0;34m.\u001b[0m\u001b[0msend\u001b[0m\u001b[0;34m(\u001b[0m\u001b[0mmsg\u001b[0m\u001b[0;34m)\u001b[0m\u001b[0;34m\u001b[0m\u001b[0;34m\u001b[0m\u001b[0m\n\u001b[0m\u001b[1;32m   1009\u001b[0m \u001b[0;34m\u001b[0m\u001b[0m\n",
      "\u001b[0;32m/usr/local/Cellar/python@3.9/3.9.5/Frameworks/Python.framework/Versions/3.9/lib/python3.9/http/client.py\u001b[0m in \u001b[0;36msend\u001b[0;34m(self, data)\u001b[0m\n\u001b[1;32m    947\u001b[0m             \u001b[0;32mif\u001b[0m \u001b[0mself\u001b[0m\u001b[0;34m.\u001b[0m\u001b[0mauto_open\u001b[0m\u001b[0;34m:\u001b[0m\u001b[0;34m\u001b[0m\u001b[0;34m\u001b[0m\u001b[0m\n\u001b[0;32m--> 948\u001b[0;31m                 \u001b[0mself\u001b[0m\u001b[0;34m.\u001b[0m\u001b[0mconnect\u001b[0m\u001b[0;34m(\u001b[0m\u001b[0;34m)\u001b[0m\u001b[0;34m\u001b[0m\u001b[0;34m\u001b[0m\u001b[0m\n\u001b[0m\u001b[1;32m    949\u001b[0m             \u001b[0;32melse\u001b[0m\u001b[0;34m:\u001b[0m\u001b[0;34m\u001b[0m\u001b[0;34m\u001b[0m\u001b[0m\n",
      "\u001b[0;32m/usr/local/lib/python3.9/site-packages/urllib3/connection.py\u001b[0m in \u001b[0;36mconnect\u001b[0;34m(self)\u001b[0m\n\u001b[1;32m    199\u001b[0m     \u001b[0;32mdef\u001b[0m \u001b[0mconnect\u001b[0m\u001b[0;34m(\u001b[0m\u001b[0mself\u001b[0m\u001b[0;34m)\u001b[0m\u001b[0;34m:\u001b[0m\u001b[0;34m\u001b[0m\u001b[0;34m\u001b[0m\u001b[0m\n\u001b[0;32m--> 200\u001b[0;31m         \u001b[0mconn\u001b[0m \u001b[0;34m=\u001b[0m \u001b[0mself\u001b[0m\u001b[0;34m.\u001b[0m\u001b[0m_new_conn\u001b[0m\u001b[0;34m(\u001b[0m\u001b[0;34m)\u001b[0m\u001b[0;34m\u001b[0m\u001b[0;34m\u001b[0m\u001b[0m\n\u001b[0m\u001b[1;32m    201\u001b[0m         \u001b[0mself\u001b[0m\u001b[0;34m.\u001b[0m\u001b[0m_prepare_conn\u001b[0m\u001b[0;34m(\u001b[0m\u001b[0mconn\u001b[0m\u001b[0;34m)\u001b[0m\u001b[0;34m\u001b[0m\u001b[0;34m\u001b[0m\u001b[0m\n",
      "\u001b[0;32m/usr/local/lib/python3.9/site-packages/urllib3/connection.py\u001b[0m in \u001b[0;36m_new_conn\u001b[0;34m(self)\u001b[0m\n\u001b[1;32m    180\u001b[0m         \u001b[0;32mexcept\u001b[0m \u001b[0mSocketError\u001b[0m \u001b[0;32mas\u001b[0m \u001b[0me\u001b[0m\u001b[0;34m:\u001b[0m\u001b[0;34m\u001b[0m\u001b[0;34m\u001b[0m\u001b[0m\n\u001b[0;32m--> 181\u001b[0;31m             raise NewConnectionError(\n\u001b[0m\u001b[1;32m    182\u001b[0m                 \u001b[0mself\u001b[0m\u001b[0;34m,\u001b[0m \u001b[0;34m\"Failed to establish a new connection: %s\"\u001b[0m \u001b[0;34m%\u001b[0m \u001b[0me\u001b[0m\u001b[0;34m\u001b[0m\u001b[0;34m\u001b[0m\u001b[0m\n",
      "\u001b[0;31mNewConnectionError\u001b[0m: <urllib3.connection.HTTPConnection object at 0x127714d00>: Failed to establish a new connection: [Errno 61] Connection refused",
      "\nDuring handling of the above exception, another exception occurred:\n",
      "\u001b[0;31mMaxRetryError\u001b[0m                         Traceback (most recent call last)",
      "\u001b[0;32m<ipython-input-243-bc66529fd5a5>\u001b[0m in \u001b[0;36m<module>\u001b[0;34m\u001b[0m\n\u001b[0;32m----> 1\u001b[0;31m \u001b[0mcard\u001b[0m\u001b[0;34m.\u001b[0m\u001b[0mfind_element_by_xpath\u001b[0m\u001b[0;34m(\u001b[0m\u001b[0;34m\".//p\"\u001b[0m\u001b[0;34m)\u001b[0m\u001b[0;34m\u001b[0m\u001b[0;34m\u001b[0m\u001b[0m\n\u001b[0m",
      "\u001b[0;32m/usr/local/lib/python3.9/site-packages/selenium/webdriver/remote/webelement.py\u001b[0m in \u001b[0;36mfind_element_by_xpath\u001b[0;34m(self, xpath)\u001b[0m\n\u001b[1;32m    349\u001b[0m             \u001b[0melement\u001b[0m \u001b[0;34m=\u001b[0m \u001b[0melement\u001b[0m\u001b[0;34m.\u001b[0m\u001b[0mfind_element_by_xpath\u001b[0m\u001b[0;34m(\u001b[0m\u001b[0;34m'//div/td[1]'\u001b[0m\u001b[0;34m)\u001b[0m\u001b[0;34m\u001b[0m\u001b[0;34m\u001b[0m\u001b[0m\n\u001b[1;32m    350\u001b[0m         \"\"\"\n\u001b[0;32m--> 351\u001b[0;31m         \u001b[0;32mreturn\u001b[0m \u001b[0mself\u001b[0m\u001b[0;34m.\u001b[0m\u001b[0mfind_element\u001b[0m\u001b[0;34m(\u001b[0m\u001b[0mby\u001b[0m\u001b[0;34m=\u001b[0m\u001b[0mBy\u001b[0m\u001b[0;34m.\u001b[0m\u001b[0mXPATH\u001b[0m\u001b[0;34m,\u001b[0m \u001b[0mvalue\u001b[0m\u001b[0;34m=\u001b[0m\u001b[0mxpath\u001b[0m\u001b[0;34m)\u001b[0m\u001b[0;34m\u001b[0m\u001b[0;34m\u001b[0m\u001b[0m\n\u001b[0m\u001b[1;32m    352\u001b[0m \u001b[0;34m\u001b[0m\u001b[0m\n\u001b[1;32m    353\u001b[0m     \u001b[0;32mdef\u001b[0m \u001b[0mfind_elements_by_xpath\u001b[0m\u001b[0;34m(\u001b[0m\u001b[0mself\u001b[0m\u001b[0;34m,\u001b[0m \u001b[0mxpath\u001b[0m\u001b[0;34m)\u001b[0m\u001b[0;34m:\u001b[0m\u001b[0;34m\u001b[0m\u001b[0;34m\u001b[0m\u001b[0m\n",
      "\u001b[0;32m/usr/local/lib/python3.9/site-packages/selenium/webdriver/remote/webelement.py\u001b[0m in \u001b[0;36mfind_element\u001b[0;34m(self, by, value)\u001b[0m\n\u001b[1;32m    656\u001b[0m                 \u001b[0mvalue\u001b[0m \u001b[0;34m=\u001b[0m \u001b[0;34m'[name=\"%s\"]'\u001b[0m \u001b[0;34m%\u001b[0m \u001b[0mvalue\u001b[0m\u001b[0;34m\u001b[0m\u001b[0;34m\u001b[0m\u001b[0m\n\u001b[1;32m    657\u001b[0m \u001b[0;34m\u001b[0m\u001b[0m\n\u001b[0;32m--> 658\u001b[0;31m         return self._execute(Command.FIND_CHILD_ELEMENT,\n\u001b[0m\u001b[1;32m    659\u001b[0m                              {\"using\": by, \"value\": value})['value']\n\u001b[1;32m    660\u001b[0m \u001b[0;34m\u001b[0m\u001b[0m\n",
      "\u001b[0;32m/usr/local/lib/python3.9/site-packages/selenium/webdriver/remote/webelement.py\u001b[0m in \u001b[0;36m_execute\u001b[0;34m(self, command, params)\u001b[0m\n\u001b[1;32m    631\u001b[0m             \u001b[0mparams\u001b[0m \u001b[0;34m=\u001b[0m \u001b[0;34m{\u001b[0m\u001b[0;34m}\u001b[0m\u001b[0;34m\u001b[0m\u001b[0;34m\u001b[0m\u001b[0m\n\u001b[1;32m    632\u001b[0m         \u001b[0mparams\u001b[0m\u001b[0;34m[\u001b[0m\u001b[0;34m'id'\u001b[0m\u001b[0;34m]\u001b[0m \u001b[0;34m=\u001b[0m \u001b[0mself\u001b[0m\u001b[0;34m.\u001b[0m\u001b[0m_id\u001b[0m\u001b[0;34m\u001b[0m\u001b[0;34m\u001b[0m\u001b[0m\n\u001b[0;32m--> 633\u001b[0;31m         \u001b[0;32mreturn\u001b[0m \u001b[0mself\u001b[0m\u001b[0;34m.\u001b[0m\u001b[0m_parent\u001b[0m\u001b[0;34m.\u001b[0m\u001b[0mexecute\u001b[0m\u001b[0;34m(\u001b[0m\u001b[0mcommand\u001b[0m\u001b[0;34m,\u001b[0m \u001b[0mparams\u001b[0m\u001b[0;34m)\u001b[0m\u001b[0;34m\u001b[0m\u001b[0;34m\u001b[0m\u001b[0m\n\u001b[0m\u001b[1;32m    634\u001b[0m \u001b[0;34m\u001b[0m\u001b[0m\n\u001b[1;32m    635\u001b[0m     \u001b[0;32mdef\u001b[0m \u001b[0mfind_element\u001b[0m\u001b[0;34m(\u001b[0m\u001b[0mself\u001b[0m\u001b[0;34m,\u001b[0m \u001b[0mby\u001b[0m\u001b[0;34m=\u001b[0m\u001b[0mBy\u001b[0m\u001b[0;34m.\u001b[0m\u001b[0mID\u001b[0m\u001b[0;34m,\u001b[0m \u001b[0mvalue\u001b[0m\u001b[0;34m=\u001b[0m\u001b[0;32mNone\u001b[0m\u001b[0;34m)\u001b[0m\u001b[0;34m:\u001b[0m\u001b[0;34m\u001b[0m\u001b[0;34m\u001b[0m\u001b[0m\n",
      "\u001b[0;32m/usr/local/lib/python3.9/site-packages/selenium/webdriver/remote/webdriver.py\u001b[0m in \u001b[0;36mexecute\u001b[0;34m(self, driver_command, params)\u001b[0m\n\u001b[1;32m    317\u001b[0m \u001b[0;34m\u001b[0m\u001b[0m\n\u001b[1;32m    318\u001b[0m         \u001b[0mparams\u001b[0m \u001b[0;34m=\u001b[0m \u001b[0mself\u001b[0m\u001b[0;34m.\u001b[0m\u001b[0m_wrap_value\u001b[0m\u001b[0;34m(\u001b[0m\u001b[0mparams\u001b[0m\u001b[0;34m)\u001b[0m\u001b[0;34m\u001b[0m\u001b[0;34m\u001b[0m\u001b[0m\n\u001b[0;32m--> 319\u001b[0;31m         \u001b[0mresponse\u001b[0m \u001b[0;34m=\u001b[0m \u001b[0mself\u001b[0m\u001b[0;34m.\u001b[0m\u001b[0mcommand_executor\u001b[0m\u001b[0;34m.\u001b[0m\u001b[0mexecute\u001b[0m\u001b[0;34m(\u001b[0m\u001b[0mdriver_command\u001b[0m\u001b[0;34m,\u001b[0m \u001b[0mparams\u001b[0m\u001b[0;34m)\u001b[0m\u001b[0;34m\u001b[0m\u001b[0;34m\u001b[0m\u001b[0m\n\u001b[0m\u001b[1;32m    320\u001b[0m         \u001b[0;32mif\u001b[0m \u001b[0mresponse\u001b[0m\u001b[0;34m:\u001b[0m\u001b[0;34m\u001b[0m\u001b[0;34m\u001b[0m\u001b[0m\n\u001b[1;32m    321\u001b[0m             \u001b[0mself\u001b[0m\u001b[0;34m.\u001b[0m\u001b[0merror_handler\u001b[0m\u001b[0;34m.\u001b[0m\u001b[0mcheck_response\u001b[0m\u001b[0;34m(\u001b[0m\u001b[0mresponse\u001b[0m\u001b[0;34m)\u001b[0m\u001b[0;34m\u001b[0m\u001b[0;34m\u001b[0m\u001b[0m\n",
      "\u001b[0;32m/usr/local/lib/python3.9/site-packages/selenium/webdriver/remote/remote_connection.py\u001b[0m in \u001b[0;36mexecute\u001b[0;34m(self, command, params)\u001b[0m\n\u001b[1;32m    372\u001b[0m         \u001b[0mdata\u001b[0m \u001b[0;34m=\u001b[0m \u001b[0mutils\u001b[0m\u001b[0;34m.\u001b[0m\u001b[0mdump_json\u001b[0m\u001b[0;34m(\u001b[0m\u001b[0mparams\u001b[0m\u001b[0;34m)\u001b[0m\u001b[0;34m\u001b[0m\u001b[0;34m\u001b[0m\u001b[0m\n\u001b[1;32m    373\u001b[0m         \u001b[0murl\u001b[0m \u001b[0;34m=\u001b[0m \u001b[0;34m'%s%s'\u001b[0m \u001b[0;34m%\u001b[0m \u001b[0;34m(\u001b[0m\u001b[0mself\u001b[0m\u001b[0;34m.\u001b[0m\u001b[0m_url\u001b[0m\u001b[0;34m,\u001b[0m \u001b[0mpath\u001b[0m\u001b[0;34m)\u001b[0m\u001b[0;34m\u001b[0m\u001b[0;34m\u001b[0m\u001b[0m\n\u001b[0;32m--> 374\u001b[0;31m         \u001b[0;32mreturn\u001b[0m \u001b[0mself\u001b[0m\u001b[0;34m.\u001b[0m\u001b[0m_request\u001b[0m\u001b[0;34m(\u001b[0m\u001b[0mcommand_info\u001b[0m\u001b[0;34m[\u001b[0m\u001b[0;36m0\u001b[0m\u001b[0;34m]\u001b[0m\u001b[0;34m,\u001b[0m \u001b[0murl\u001b[0m\u001b[0;34m,\u001b[0m \u001b[0mbody\u001b[0m\u001b[0;34m=\u001b[0m\u001b[0mdata\u001b[0m\u001b[0;34m)\u001b[0m\u001b[0;34m\u001b[0m\u001b[0;34m\u001b[0m\u001b[0m\n\u001b[0m\u001b[1;32m    375\u001b[0m \u001b[0;34m\u001b[0m\u001b[0m\n\u001b[1;32m    376\u001b[0m     \u001b[0;32mdef\u001b[0m \u001b[0m_request\u001b[0m\u001b[0;34m(\u001b[0m\u001b[0mself\u001b[0m\u001b[0;34m,\u001b[0m \u001b[0mmethod\u001b[0m\u001b[0;34m,\u001b[0m \u001b[0murl\u001b[0m\u001b[0;34m,\u001b[0m \u001b[0mbody\u001b[0m\u001b[0;34m=\u001b[0m\u001b[0;32mNone\u001b[0m\u001b[0;34m)\u001b[0m\u001b[0;34m:\u001b[0m\u001b[0;34m\u001b[0m\u001b[0;34m\u001b[0m\u001b[0m\n",
      "\u001b[0;32m/usr/local/lib/python3.9/site-packages/selenium/webdriver/remote/remote_connection.py\u001b[0m in \u001b[0;36m_request\u001b[0;34m(self, method, url, body)\u001b[0m\n\u001b[1;32m    395\u001b[0m \u001b[0;34m\u001b[0m\u001b[0m\n\u001b[1;32m    396\u001b[0m         \u001b[0;32mif\u001b[0m \u001b[0mself\u001b[0m\u001b[0;34m.\u001b[0m\u001b[0mkeep_alive\u001b[0m\u001b[0;34m:\u001b[0m\u001b[0;34m\u001b[0m\u001b[0;34m\u001b[0m\u001b[0m\n\u001b[0;32m--> 397\u001b[0;31m             \u001b[0mresp\u001b[0m \u001b[0;34m=\u001b[0m \u001b[0mself\u001b[0m\u001b[0;34m.\u001b[0m\u001b[0m_conn\u001b[0m\u001b[0;34m.\u001b[0m\u001b[0mrequest\u001b[0m\u001b[0;34m(\u001b[0m\u001b[0mmethod\u001b[0m\u001b[0;34m,\u001b[0m \u001b[0murl\u001b[0m\u001b[0;34m,\u001b[0m \u001b[0mbody\u001b[0m\u001b[0;34m=\u001b[0m\u001b[0mbody\u001b[0m\u001b[0;34m,\u001b[0m \u001b[0mheaders\u001b[0m\u001b[0;34m=\u001b[0m\u001b[0mheaders\u001b[0m\u001b[0;34m)\u001b[0m\u001b[0;34m\u001b[0m\u001b[0;34m\u001b[0m\u001b[0m\n\u001b[0m\u001b[1;32m    398\u001b[0m \u001b[0;34m\u001b[0m\u001b[0m\n\u001b[1;32m    399\u001b[0m             \u001b[0mstatuscode\u001b[0m \u001b[0;34m=\u001b[0m \u001b[0mresp\u001b[0m\u001b[0;34m.\u001b[0m\u001b[0mstatus\u001b[0m\u001b[0;34m\u001b[0m\u001b[0;34m\u001b[0m\u001b[0m\n",
      "\u001b[0;32m/usr/local/lib/python3.9/site-packages/urllib3/request.py\u001b[0m in \u001b[0;36mrequest\u001b[0;34m(self, method, url, fields, headers, **urlopen_kw)\u001b[0m\n\u001b[1;32m     76\u001b[0m             )\n\u001b[1;32m     77\u001b[0m         \u001b[0;32melse\u001b[0m\u001b[0;34m:\u001b[0m\u001b[0;34m\u001b[0m\u001b[0;34m\u001b[0m\u001b[0m\n\u001b[0;32m---> 78\u001b[0;31m             return self.request_encode_body(\n\u001b[0m\u001b[1;32m     79\u001b[0m                 \u001b[0mmethod\u001b[0m\u001b[0;34m,\u001b[0m \u001b[0murl\u001b[0m\u001b[0;34m,\u001b[0m \u001b[0mfields\u001b[0m\u001b[0;34m=\u001b[0m\u001b[0mfields\u001b[0m\u001b[0;34m,\u001b[0m \u001b[0mheaders\u001b[0m\u001b[0;34m=\u001b[0m\u001b[0mheaders\u001b[0m\u001b[0;34m,\u001b[0m \u001b[0;34m**\u001b[0m\u001b[0murlopen_kw\u001b[0m\u001b[0;34m\u001b[0m\u001b[0;34m\u001b[0m\u001b[0m\n\u001b[1;32m     80\u001b[0m             )\n",
      "\u001b[0;32m/usr/local/lib/python3.9/site-packages/urllib3/request.py\u001b[0m in \u001b[0;36mrequest_encode_body\u001b[0;34m(self, method, url, fields, headers, encode_multipart, multipart_boundary, **urlopen_kw)\u001b[0m\n\u001b[1;32m    168\u001b[0m         \u001b[0mextra_kw\u001b[0m\u001b[0;34m.\u001b[0m\u001b[0mupdate\u001b[0m\u001b[0;34m(\u001b[0m\u001b[0murlopen_kw\u001b[0m\u001b[0;34m)\u001b[0m\u001b[0;34m\u001b[0m\u001b[0;34m\u001b[0m\u001b[0m\n\u001b[1;32m    169\u001b[0m \u001b[0;34m\u001b[0m\u001b[0m\n\u001b[0;32m--> 170\u001b[0;31m         \u001b[0;32mreturn\u001b[0m \u001b[0mself\u001b[0m\u001b[0;34m.\u001b[0m\u001b[0murlopen\u001b[0m\u001b[0;34m(\u001b[0m\u001b[0mmethod\u001b[0m\u001b[0;34m,\u001b[0m \u001b[0murl\u001b[0m\u001b[0;34m,\u001b[0m \u001b[0;34m**\u001b[0m\u001b[0mextra_kw\u001b[0m\u001b[0;34m)\u001b[0m\u001b[0;34m\u001b[0m\u001b[0;34m\u001b[0m\u001b[0m\n\u001b[0m",
      "\u001b[0;32m/usr/local/lib/python3.9/site-packages/urllib3/poolmanager.py\u001b[0m in \u001b[0;36murlopen\u001b[0;34m(self, method, url, redirect, **kw)\u001b[0m\n\u001b[1;32m    373\u001b[0m             \u001b[0mresponse\u001b[0m \u001b[0;34m=\u001b[0m \u001b[0mconn\u001b[0m\u001b[0;34m.\u001b[0m\u001b[0murlopen\u001b[0m\u001b[0;34m(\u001b[0m\u001b[0mmethod\u001b[0m\u001b[0;34m,\u001b[0m \u001b[0murl\u001b[0m\u001b[0;34m,\u001b[0m \u001b[0;34m**\u001b[0m\u001b[0mkw\u001b[0m\u001b[0;34m)\u001b[0m\u001b[0;34m\u001b[0m\u001b[0;34m\u001b[0m\u001b[0m\n\u001b[1;32m    374\u001b[0m         \u001b[0;32melse\u001b[0m\u001b[0;34m:\u001b[0m\u001b[0;34m\u001b[0m\u001b[0;34m\u001b[0m\u001b[0m\n\u001b[0;32m--> 375\u001b[0;31m             \u001b[0mresponse\u001b[0m \u001b[0;34m=\u001b[0m \u001b[0mconn\u001b[0m\u001b[0;34m.\u001b[0m\u001b[0murlopen\u001b[0m\u001b[0;34m(\u001b[0m\u001b[0mmethod\u001b[0m\u001b[0;34m,\u001b[0m \u001b[0mu\u001b[0m\u001b[0;34m.\u001b[0m\u001b[0mrequest_uri\u001b[0m\u001b[0;34m,\u001b[0m \u001b[0;34m**\u001b[0m\u001b[0mkw\u001b[0m\u001b[0;34m)\u001b[0m\u001b[0;34m\u001b[0m\u001b[0;34m\u001b[0m\u001b[0m\n\u001b[0m\u001b[1;32m    376\u001b[0m \u001b[0;34m\u001b[0m\u001b[0m\n\u001b[1;32m    377\u001b[0m         \u001b[0mredirect_location\u001b[0m \u001b[0;34m=\u001b[0m \u001b[0mredirect\u001b[0m \u001b[0;32mand\u001b[0m \u001b[0mresponse\u001b[0m\u001b[0;34m.\u001b[0m\u001b[0mget_redirect_location\u001b[0m\u001b[0;34m(\u001b[0m\u001b[0;34m)\u001b[0m\u001b[0;34m\u001b[0m\u001b[0;34m\u001b[0m\u001b[0m\n",
      "\u001b[0;32m/usr/local/lib/python3.9/site-packages/urllib3/connectionpool.py\u001b[0m in \u001b[0;36murlopen\u001b[0;34m(self, method, url, body, headers, retries, redirect, assert_same_host, timeout, pool_timeout, release_conn, chunked, body_pos, **response_kw)\u001b[0m\n\u001b[1;32m    781\u001b[0m                 \u001b[0;34m\"Retrying (%r) after connection broken by '%r': %s\"\u001b[0m\u001b[0;34m,\u001b[0m \u001b[0mretries\u001b[0m\u001b[0;34m,\u001b[0m \u001b[0merr\u001b[0m\u001b[0;34m,\u001b[0m \u001b[0murl\u001b[0m\u001b[0;34m\u001b[0m\u001b[0;34m\u001b[0m\u001b[0m\n\u001b[1;32m    782\u001b[0m             )\n\u001b[0;32m--> 783\u001b[0;31m             return self.urlopen(\n\u001b[0m\u001b[1;32m    784\u001b[0m                 \u001b[0mmethod\u001b[0m\u001b[0;34m,\u001b[0m\u001b[0;34m\u001b[0m\u001b[0;34m\u001b[0m\u001b[0m\n\u001b[1;32m    785\u001b[0m                 \u001b[0murl\u001b[0m\u001b[0;34m,\u001b[0m\u001b[0;34m\u001b[0m\u001b[0;34m\u001b[0m\u001b[0m\n",
      "\u001b[0;32m/usr/local/lib/python3.9/site-packages/urllib3/connectionpool.py\u001b[0m in \u001b[0;36murlopen\u001b[0;34m(self, method, url, body, headers, retries, redirect, assert_same_host, timeout, pool_timeout, release_conn, chunked, body_pos, **response_kw)\u001b[0m\n\u001b[1;32m    781\u001b[0m                 \u001b[0;34m\"Retrying (%r) after connection broken by '%r': %s\"\u001b[0m\u001b[0;34m,\u001b[0m \u001b[0mretries\u001b[0m\u001b[0;34m,\u001b[0m \u001b[0merr\u001b[0m\u001b[0;34m,\u001b[0m \u001b[0murl\u001b[0m\u001b[0;34m\u001b[0m\u001b[0;34m\u001b[0m\u001b[0m\n\u001b[1;32m    782\u001b[0m             )\n\u001b[0;32m--> 783\u001b[0;31m             return self.urlopen(\n\u001b[0m\u001b[1;32m    784\u001b[0m                 \u001b[0mmethod\u001b[0m\u001b[0;34m,\u001b[0m\u001b[0;34m\u001b[0m\u001b[0;34m\u001b[0m\u001b[0m\n\u001b[1;32m    785\u001b[0m                 \u001b[0murl\u001b[0m\u001b[0;34m,\u001b[0m\u001b[0;34m\u001b[0m\u001b[0;34m\u001b[0m\u001b[0m\n",
      "\u001b[0;32m/usr/local/lib/python3.9/site-packages/urllib3/connectionpool.py\u001b[0m in \u001b[0;36murlopen\u001b[0;34m(self, method, url, body, headers, retries, redirect, assert_same_host, timeout, pool_timeout, release_conn, chunked, body_pos, **response_kw)\u001b[0m\n\u001b[1;32m    781\u001b[0m                 \u001b[0;34m\"Retrying (%r) after connection broken by '%r': %s\"\u001b[0m\u001b[0;34m,\u001b[0m \u001b[0mretries\u001b[0m\u001b[0;34m,\u001b[0m \u001b[0merr\u001b[0m\u001b[0;34m,\u001b[0m \u001b[0murl\u001b[0m\u001b[0;34m\u001b[0m\u001b[0;34m\u001b[0m\u001b[0m\n\u001b[1;32m    782\u001b[0m             )\n\u001b[0;32m--> 783\u001b[0;31m             return self.urlopen(\n\u001b[0m\u001b[1;32m    784\u001b[0m                 \u001b[0mmethod\u001b[0m\u001b[0;34m,\u001b[0m\u001b[0;34m\u001b[0m\u001b[0;34m\u001b[0m\u001b[0m\n\u001b[1;32m    785\u001b[0m                 \u001b[0murl\u001b[0m\u001b[0;34m,\u001b[0m\u001b[0;34m\u001b[0m\u001b[0;34m\u001b[0m\u001b[0m\n",
      "\u001b[0;32m/usr/local/lib/python3.9/site-packages/urllib3/connectionpool.py\u001b[0m in \u001b[0;36murlopen\u001b[0;34m(self, method, url, body, headers, retries, redirect, assert_same_host, timeout, pool_timeout, release_conn, chunked, body_pos, **response_kw)\u001b[0m\n\u001b[1;32m    753\u001b[0m                 \u001b[0me\u001b[0m \u001b[0;34m=\u001b[0m \u001b[0mProtocolError\u001b[0m\u001b[0;34m(\u001b[0m\u001b[0;34m\"Connection aborted.\"\u001b[0m\u001b[0;34m,\u001b[0m \u001b[0me\u001b[0m\u001b[0;34m)\u001b[0m\u001b[0;34m\u001b[0m\u001b[0;34m\u001b[0m\u001b[0m\n\u001b[1;32m    754\u001b[0m \u001b[0;34m\u001b[0m\u001b[0m\n\u001b[0;32m--> 755\u001b[0;31m             retries = retries.increment(\n\u001b[0m\u001b[1;32m    756\u001b[0m                 \u001b[0mmethod\u001b[0m\u001b[0;34m,\u001b[0m \u001b[0murl\u001b[0m\u001b[0;34m,\u001b[0m \u001b[0merror\u001b[0m\u001b[0;34m=\u001b[0m\u001b[0me\u001b[0m\u001b[0;34m,\u001b[0m \u001b[0m_pool\u001b[0m\u001b[0;34m=\u001b[0m\u001b[0mself\u001b[0m\u001b[0;34m,\u001b[0m \u001b[0m_stacktrace\u001b[0m\u001b[0;34m=\u001b[0m\u001b[0msys\u001b[0m\u001b[0;34m.\u001b[0m\u001b[0mexc_info\u001b[0m\u001b[0;34m(\u001b[0m\u001b[0;34m)\u001b[0m\u001b[0;34m[\u001b[0m\u001b[0;36m2\u001b[0m\u001b[0;34m]\u001b[0m\u001b[0;34m\u001b[0m\u001b[0;34m\u001b[0m\u001b[0m\n\u001b[1;32m    757\u001b[0m             )\n",
      "\u001b[0;32m/usr/local/lib/python3.9/site-packages/urllib3/util/retry.py\u001b[0m in \u001b[0;36mincrement\u001b[0;34m(self, method, url, response, error, _pool, _stacktrace)\u001b[0m\n\u001b[1;32m    572\u001b[0m \u001b[0;34m\u001b[0m\u001b[0m\n\u001b[1;32m    573\u001b[0m         \u001b[0;32mif\u001b[0m \u001b[0mnew_retry\u001b[0m\u001b[0;34m.\u001b[0m\u001b[0mis_exhausted\u001b[0m\u001b[0;34m(\u001b[0m\u001b[0;34m)\u001b[0m\u001b[0;34m:\u001b[0m\u001b[0;34m\u001b[0m\u001b[0;34m\u001b[0m\u001b[0m\n\u001b[0;32m--> 574\u001b[0;31m             \u001b[0;32mraise\u001b[0m \u001b[0mMaxRetryError\u001b[0m\u001b[0;34m(\u001b[0m\u001b[0m_pool\u001b[0m\u001b[0;34m,\u001b[0m \u001b[0murl\u001b[0m\u001b[0;34m,\u001b[0m \u001b[0merror\u001b[0m \u001b[0;32mor\u001b[0m \u001b[0mResponseError\u001b[0m\u001b[0;34m(\u001b[0m\u001b[0mcause\u001b[0m\u001b[0;34m)\u001b[0m\u001b[0;34m)\u001b[0m\u001b[0;34m\u001b[0m\u001b[0;34m\u001b[0m\u001b[0m\n\u001b[0m\u001b[1;32m    575\u001b[0m \u001b[0;34m\u001b[0m\u001b[0m\n\u001b[1;32m    576\u001b[0m         \u001b[0mlog\u001b[0m\u001b[0;34m.\u001b[0m\u001b[0mdebug\u001b[0m\u001b[0;34m(\u001b[0m\u001b[0;34m\"Incremented Retry for (url='%s'): %r\"\u001b[0m\u001b[0;34m,\u001b[0m \u001b[0murl\u001b[0m\u001b[0;34m,\u001b[0m \u001b[0mnew_retry\u001b[0m\u001b[0;34m)\u001b[0m\u001b[0;34m\u001b[0m\u001b[0;34m\u001b[0m\u001b[0m\n",
      "\u001b[0;31mMaxRetryError\u001b[0m: HTTPConnectionPool(host='127.0.0.1', port=57483): Max retries exceeded with url: /session/f66c82ae-bfcf-3044-8410-eb542ced54c8/element/ff21e144-0f67-084b-b346-aa677799eeb9/element (Caused by NewConnectionError('<urllib3.connection.HTTPConnection object at 0x127714d00>: Failed to establish a new connection: [Errno 61] Connection refused'))"
     ]
    }
   ],
   "source": [
    "card.find_element_by_xpath(\".//p\")"
   ]
  },
  {
   "cell_type": "code",
   "execution_count": null,
   "id": "764cce70",
   "metadata": {},
   "outputs": [],
   "source": []
  }
 ],
 "metadata": {
  "kernelspec": {
   "display_name": "Python 3",
   "language": "python",
   "name": "python3"
  },
  "language_info": {
   "codemirror_mode": {
    "name": "ipython",
    "version": 3
   },
   "file_extension": ".py",
   "mimetype": "text/x-python",
   "name": "python",
   "nbconvert_exporter": "python",
   "pygments_lexer": "ipython3",
   "version": "3.9.5"
  }
 },
 "nbformat": 4,
 "nbformat_minor": 5
}
